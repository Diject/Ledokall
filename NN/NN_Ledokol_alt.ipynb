{
 "cells": [
  {
   "cell_type": "code",
   "execution_count": 1,
   "metadata": {
    "scrolled": true
   },
   "outputs": [
    {
     "name": "stderr",
     "output_type": "stream",
     "text": [
      "Using TensorFlow backend.\n",
      "Saving vectors of label - '00Ledokol': 100%|█████████████████████████████████████████| 216/216 [00:04<00:00, 53.47it/s]\n",
      "Saving vectors of label - '01Vkluchi': 100%|█████████████████████████████████████████| 255/255 [00:04<00:00, 52.51it/s]\n",
      "Saving vectors of label - '02Proiznesi': 100%|███████████████████████████████████████| 268/268 [00:05<00:00, 51.87it/s]\n",
      "Saving vectors of label - '03Spectrogrammy': 100%|███████████████████████████████████| 297/297 [00:05<00:00, 52.35it/s]\n",
      "Saving vectors of label - '04Temperatyry': 100%|█████████████████████████████████████| 239/239 [00:04<00:00, 54.32it/s]\n",
      "Saving vectors of label - '05Vlaznost': 100%|████████████████████████████████████████| 244/244 [00:04<00:00, 53.79it/s]\n",
      "Saving vectors of label - '06Vremya': 100%|██████████████████████████████████████████| 289/289 [00:05<00:00, 53.12it/s]\n",
      "Saving vectors of label - '07Pozhalysta': 100%|██████████████████████████████████████| 219/219 [00:04<00:00, 52.44it/s]\n",
      "Saving vectors of label - '08Vikluchi': 100%|████████████████████████████████████████| 290/290 [00:05<00:00, 52.76it/s]\n",
      "Saving vectors of label - '09Podsvetky': 100%|███████████████████████████████████████| 185/185 [00:03<00:00, 50.26it/s]\n",
      "Saving vectors of label - '10Zvyk': 100%|████████████████████████████████████████████| 266/266 [00:05<00:00, 50.96it/s]\n",
      "Saving vectors of label - '11Microphone': 100%|██████████████████████████████████████| 219/219 [00:04<00:00, 52.36it/s]\n",
      "Saving vectors of label - '12Sebya': 100%|███████████████████████████████████████████| 212/212 [00:04<00:00, 52.81it/s]\n",
      "Saving vectors of label - '13Ludei': 100%|███████████████████████████████████████████| 127/127 [00:02<00:00, 52.08it/s]\n",
      "Saving vectors of label - '99WNoise': 100%|████████████████████████████████████████| 2759/2759 [00:52<00:00, 52.46it/s]\n"
     ]
    }
   ],
   "source": [
    "%load_ext autoreload\n",
    "%autoreload 2\n",
    "\n",
    "from preprocess_alt import *\n",
    "import keras\n",
    "import librosa.display\n",
    "from keras.models import Sequential\n",
    "from keras.layers import Dense, Dropout, Flatten, Conv2D, MaxPooling2D\n",
    "from keras.utils import to_categorical\n",
    "\n",
    "# Second dimension of the feature is dim2\n",
    "feature_dim_2 = 29\n",
    "\n",
    "# Save data to array file first\n",
    "save_data_to_array(max_len=feature_dim_2)\n",
    "\n",
    "# # Loading train set and test set\n",
    "X_train, X_test, y_train, y_test = get_train_test()\n",
    "\n",
    "# # Feature dimension\n",
    "feature_dim_1 = 21\n",
    "channel = 1\n",
    "epochs = 100\n",
    "batch_size = 100\n",
    "verbose = 1\n",
    "num_classes = 15\n",
    "\n",
    "# Reshaping to perform 2D convolution\n",
    "X_train = X_train.reshape(X_train.shape[0], feature_dim_1, feature_dim_2, channel)\n",
    "X_test = X_test.reshape(X_test.shape[0], feature_dim_1, feature_dim_2, channel)\n",
    "\n",
    "y_train_hot = to_categorical(y_train)\n",
    "y_test_hot = to_categorical(y_test)"
   ]
  },
  {
   "cell_type": "code",
   "execution_count": 2,
   "metadata": {},
   "outputs": [],
   "source": [
    "def get_model():\n",
    "    model = Sequential()\n",
    "    model.add(Conv2D(16, (2, 2), activation='relu', input_shape=(feature_dim_1, feature_dim_2, channel)))\n",
    "    model.add(Conv2D(16, kernel_size=(2, 2), activation='relu'))\n",
    "    model.add(MaxPooling2D((2, 2)))\n",
    "    #model.add(Dropout(0.1))\n",
    "    model.add(Conv2D(48, (2, 2), activation='relu'))\n",
    "    model.add(MaxPooling2D((2, 2)))\n",
    "    model.add(Dropout(0.35))\n",
    "    model.add(Flatten())\n",
    "    model.add(Dense(32, activation='relu'))\n",
    "    #model.add(Dense(3, activation='softmax'))\n",
    "    \n",
    "    model.add(Dense(num_classes, activation='softmax'))\n",
    "    model.compile(loss=keras.losses.categorical_crossentropy,\n",
    "                  optimizer=keras.optimizers.Adadelta(),\n",
    "                  metrics=['accuracy'])\n",
    "    return model\n",
    "\n",
    "# Predicts one sample\n",
    "def predict(filepath, model):\n",
    "    sample = wav2mfcc(filepath, max_len=feature_dim_2)\n",
    "    sample_reshaped = sample.reshape(1, feature_dim_1, feature_dim_2, channel)\n",
    "    return get_labels()[0][\n",
    "            np.argmax(model.predict(sample_reshaped))\n",
    "    ]"
   ]
  },
  {
   "cell_type": "markdown",
   "metadata": {},
   "source": [
    "# Building The Model Then Training it"
   ]
  },
  {
   "cell_type": "code",
   "execution_count": 4,
   "metadata": {},
   "outputs": [
    {
     "name": "stdout",
     "output_type": "stream",
     "text": [
      "Train on 3651 samples, validate on 2434 samples\n",
      "Epoch 1/55\n",
      "3651/3651 [==============================] - ETA: 6s - loss: 7.8265 - accuracy: 0.03 - ETA: 2s - loss: 5.5044 - accuracy: 0.22 - ETA: 1s - loss: 4.5958 - accuracy: 0.24 - ETA: 1s - loss: 4.0768 - accuracy: 0.26 - ETA: 1s - loss: 3.7804 - accuracy: 0.26 - ETA: 1s - loss: 3.5185 - accuracy: 0.28 - ETA: 1s - loss: 3.3506 - accuracy: 0.29 - ETA: 0s - loss: 3.1841 - accuracy: 0.31 - ETA: 0s - loss: 3.0539 - accuracy: 0.32 - ETA: 0s - loss: 2.9547 - accuracy: 0.33 - ETA: 0s - loss: 2.8936 - accuracy: 0.34 - ETA: 0s - loss: 2.8508 - accuracy: 0.33 - ETA: 0s - loss: 2.7828 - accuracy: 0.34 - ETA: 0s - loss: 2.7037 - accuracy: 0.35 - ETA: 0s - loss: 2.6439 - accuracy: 0.36 - ETA: 0s - loss: 2.5971 - accuracy: 0.36 - ETA: 0s - loss: 2.5583 - accuracy: 0.37 - ETA: 0s - loss: 2.5190 - accuracy: 0.37 - 2s 452us/step - loss: 2.4751 - accuracy: 0.3804 - val_loss: 1.7244 - val_accuracy: 0.4589\n",
      "Epoch 2/55\n",
      "3651/3651 [==============================] - ETA: 1s - loss: 2.0302 - accuracy: 0.41 - ETA: 1s - loss: 1.9613 - accuracy: 0.40 - ETA: 1s - loss: 1.8064 - accuracy: 0.46 - ETA: 1s - loss: 1.7409 - accuracy: 0.47 - ETA: 0s - loss: 1.7481 - accuracy: 0.47 - ETA: 0s - loss: 1.7046 - accuracy: 0.48 - ETA: 0s - loss: 1.6755 - accuracy: 0.48 - ETA: 0s - loss: 1.6711 - accuracy: 0.47 - ETA: 0s - loss: 1.6475 - accuracy: 0.48 - ETA: 0s - loss: 1.6356 - accuracy: 0.48 - ETA: 0s - loss: 1.6208 - accuracy: 0.48 - ETA: 0s - loss: 1.6138 - accuracy: 0.48 - ETA: 0s - loss: 1.5903 - accuracy: 0.48 - ETA: 0s - loss: 1.5656 - accuracy: 0.49 - ETA: 0s - loss: 1.5544 - accuracy: 0.49 - ETA: 0s - loss: 1.5439 - accuracy: 0.49 - ETA: 0s - loss: 1.5247 - accuracy: 0.50 - ETA: 0s - loss: 1.5272 - accuracy: 0.50 - 1s 411us/step - loss: 1.5157 - accuracy: 0.5089 - val_loss: 1.2017 - val_accuracy: 0.6434\n",
      "Epoch 3/55\n",
      "3651/3651 [==============================] - ETA: 1s - loss: 1.2592 - accuracy: 0.61 - ETA: 1s - loss: 1.5659 - accuracy: 0.51 - ETA: 1s - loss: 1.4523 - accuracy: 0.52 - ETA: 1s - loss: 1.4316 - accuracy: 0.52 - ETA: 0s - loss: 1.3713 - accuracy: 0.55 - ETA: 0s - loss: 1.3351 - accuracy: 0.56 - ETA: 0s - loss: 1.2867 - accuracy: 0.58 - ETA: 0s - loss: 1.2559 - accuracy: 0.60 - ETA: 0s - loss: 1.2118 - accuracy: 0.61 - ETA: 0s - loss: 1.1779 - accuracy: 0.62 - ETA: 0s - loss: 1.1591 - accuracy: 0.63 - ETA: 0s - loss: 1.1241 - accuracy: 0.64 - ETA: 0s - loss: 1.1057 - accuracy: 0.65 - ETA: 0s - loss: 1.0988 - accuracy: 0.65 - ETA: 0s - loss: 1.0796 - accuracy: 0.66 - ETA: 0s - loss: 1.0604 - accuracy: 0.66 - ETA: 0s - loss: 1.0418 - accuracy: 0.67 - ETA: 0s - loss: 1.0333 - accuracy: 0.67 - 2s 422us/step - loss: 1.0253 - accuracy: 0.6787 - val_loss: 0.8316 - val_accuracy: 0.7424\n",
      "Epoch 4/55\n",
      "3651/3651 [==============================] - ETA: 1s - loss: 0.9729 - accuracy: 0.72 - ETA: 1s - loss: 0.7398 - accuracy: 0.78 - ETA: 1s - loss: 0.6931 - accuracy: 0.79 - ETA: 0s - loss: 0.7603 - accuracy: 0.76 - ETA: 0s - loss: 0.7169 - accuracy: 0.77 - ETA: 0s - loss: 0.6745 - accuracy: 0.78 - ETA: 0s - loss: 0.6602 - accuracy: 0.79 - ETA: 0s - loss: 0.6419 - accuracy: 0.79 - ETA: 0s - loss: 0.6462 - accuracy: 0.79 - ETA: 0s - loss: 0.6730 - accuracy: 0.78 - ETA: 0s - loss: 0.6497 - accuracy: 0.79 - ETA: 0s - loss: 0.6509 - accuracy: 0.80 - ETA: 0s - loss: 0.6268 - accuracy: 0.80 - ETA: 0s - loss: 0.6031 - accuracy: 0.81 - ETA: 0s - loss: 0.5854 - accuracy: 0.81 - ETA: 0s - loss: 0.5710 - accuracy: 0.82 - ETA: 0s - loss: 0.5631 - accuracy: 0.82 - ETA: 0s - loss: 0.5508 - accuracy: 0.83 - 1s 371us/step - loss: 0.5400 - accuracy: 0.8357 - val_loss: 0.2805 - val_accuracy: 0.9133\n",
      "Epoch 5/55\n",
      "3651/3651 [==============================] - ETA: 1s - loss: 0.3405 - accuracy: 0.89 - ETA: 0s - loss: 0.4571 - accuracy: 0.86 - ETA: 0s - loss: 0.4016 - accuracy: 0.88 - ETA: 0s - loss: 0.4225 - accuracy: 0.87 - ETA: 0s - loss: 0.4259 - accuracy: 0.86 - ETA: 0s - loss: 0.3909 - accuracy: 0.88 - ETA: 0s - loss: 0.3754 - accuracy: 0.88 - ETA: 0s - loss: 0.3699 - accuracy: 0.89 - ETA: 0s - loss: 0.3577 - accuracy: 0.89 - ETA: 0s - loss: 0.3363 - accuracy: 0.90 - ETA: 0s - loss: 0.3246 - accuracy: 0.90 - ETA: 0s - loss: 0.3144 - accuracy: 0.90 - ETA: 0s - loss: 0.3108 - accuracy: 0.91 - ETA: 0s - loss: 0.3042 - accuracy: 0.91 - ETA: 0s - loss: 0.3019 - accuracy: 0.91 - ETA: 0s - loss: 0.2949 - accuracy: 0.91 - ETA: 0s - loss: 0.2903 - accuracy: 0.91 - ETA: 0s - loss: 0.2874 - accuracy: 0.91 - 1s 365us/step - loss: 0.2820 - accuracy: 0.9189 - val_loss: 0.1231 - val_accuracy: 0.9770\n",
      "Epoch 6/55\n",
      "3651/3651 [==============================] - ETA: 1s - loss: 0.1162 - accuracy: 0.98 - ETA: 1s - loss: 0.1879 - accuracy: 0.95 - ETA: 0s - loss: 0.2360 - accuracy: 0.93 - ETA: 0s - loss: 0.2391 - accuracy: 0.92 - ETA: 0s - loss: 0.2263 - accuracy: 0.93 - ETA: 0s - loss: 0.2119 - accuracy: 0.93 - ETA: 0s - loss: 0.2135 - accuracy: 0.93 - ETA: 0s - loss: 0.2120 - accuracy: 0.93 - ETA: 0s - loss: 0.2128 - accuracy: 0.93 - ETA: 0s - loss: 0.2105 - accuracy: 0.93 - ETA: 0s - loss: 0.2040 - accuracy: 0.94 - ETA: 0s - loss: 0.2011 - accuracy: 0.94 - ETA: 0s - loss: 0.2023 - accuracy: 0.94 - ETA: 0s - loss: 0.1987 - accuracy: 0.94 - ETA: 0s - loss: 0.1979 - accuracy: 0.94 - ETA: 0s - loss: 0.1963 - accuracy: 0.94 - ETA: 0s - loss: 0.1919 - accuracy: 0.94 - ETA: 0s - loss: 0.1896 - accuracy: 0.94 - 1s 375us/step - loss: 0.1904 - accuracy: 0.9469 - val_loss: 0.1145 - val_accuracy: 0.9753\n",
      "Epoch 7/55\n",
      "3651/3651 [==============================] - ETA: 1s - loss: 0.1940 - accuracy: 0.97 - ETA: 1s - loss: 0.1426 - accuracy: 0.98 - ETA: 0s - loss: 0.1612 - accuracy: 0.96 - ETA: 0s - loss: 0.1474 - accuracy: 0.96 - ETA: 0s - loss: 0.1519 - accuracy: 0.96 - ETA: 0s - loss: 0.1412 - accuracy: 0.96 - ETA: 0s - loss: 0.1465 - accuracy: 0.96 - ETA: 0s - loss: 0.1432 - accuracy: 0.96 - ETA: 0s - loss: 0.1412 - accuracy: 0.96 - ETA: 0s - loss: 0.1495 - accuracy: 0.95 - ETA: 0s - loss: 0.1515 - accuracy: 0.95 - ETA: 0s - loss: 0.1531 - accuracy: 0.95 - ETA: 0s - loss: 0.1493 - accuracy: 0.95 - ETA: 0s - loss: 0.1477 - accuracy: 0.95 - ETA: 0s - loss: 0.1450 - accuracy: 0.95 - ETA: 0s - loss: 0.1410 - accuracy: 0.95 - ETA: 0s - loss: 0.1399 - accuracy: 0.95 - ETA: 0s - loss: 0.1380 - accuracy: 0.96 - 1s 389us/step - loss: 0.1385 - accuracy: 0.9603 - val_loss: 0.0698 - val_accuracy: 0.9869\n",
      "Epoch 8/55\n",
      "3651/3651 [==============================] - ETA: 1s - loss: 0.1250 - accuracy: 0.97 - ETA: 1s - loss: 0.0960 - accuracy: 0.97 - ETA: 1s - loss: 0.1001 - accuracy: 0.97 - ETA: 0s - loss: 0.0986 - accuracy: 0.97 - ETA: 0s - loss: 0.0931 - accuracy: 0.97 - ETA: 0s - loss: 0.0937 - accuracy: 0.97 - ETA: 0s - loss: 0.0939 - accuracy: 0.97 - ETA: 0s - loss: 0.1034 - accuracy: 0.96 - ETA: 0s - loss: 0.1066 - accuracy: 0.96 - ETA: 0s - loss: 0.1062 - accuracy: 0.96 - ETA: 0s - loss: 0.1065 - accuracy: 0.96 - ETA: 0s - loss: 0.1030 - accuracy: 0.96 - ETA: 0s - loss: 0.0997 - accuracy: 0.96 - ETA: 0s - loss: 0.0978 - accuracy: 0.96 - ETA: 0s - loss: 0.0985 - accuracy: 0.96 - ETA: 0s - loss: 0.1010 - accuracy: 0.96 - ETA: 0s - loss: 0.1012 - accuracy: 0.96 - ETA: 0s - loss: 0.1012 - accuracy: 0.96 - ETA: 0s - loss: 0.1049 - accuracy: 0.96 - 1s 398us/step - loss: 0.1048 - accuracy: 0.9671 - val_loss: 0.0789 - val_accuracy: 0.9786\n",
      "Epoch 9/55\n",
      "3651/3651 [==============================] - ETA: 0s - loss: 0.0885 - accuracy: 0.98 - ETA: 1s - loss: 0.0923 - accuracy: 0.97 - ETA: 0s - loss: 0.0879 - accuracy: 0.96 - ETA: 0s - loss: 0.0855 - accuracy: 0.97 - ETA: 0s - loss: 0.0807 - accuracy: 0.97 - ETA: 0s - loss: 0.0945 - accuracy: 0.96 - ETA: 0s - loss: 0.1046 - accuracy: 0.96 - ETA: 0s - loss: 0.1071 - accuracy: 0.96 - ETA: 0s - loss: 0.1053 - accuracy: 0.96 - ETA: 0s - loss: 0.1000 - accuracy: 0.96 - ETA: 0s - loss: 0.0939 - accuracy: 0.97 - ETA: 0s - loss: 0.0882 - accuracy: 0.97 - ETA: 0s - loss: 0.0868 - accuracy: 0.97 - ETA: 0s - loss: 0.0891 - accuracy: 0.97 - ETA: 0s - loss: 0.0882 - accuracy: 0.97 - ETA: 0s - loss: 0.0889 - accuracy: 0.97 - ETA: 0s - loss: 0.0897 - accuracy: 0.97 - ETA: 0s - loss: 0.0858 - accuracy: 0.97 - ETA: 0s - loss: 0.0843 - accuracy: 0.97 - 2s 423us/step - loss: 0.0853 - accuracy: 0.9743 - val_loss: 0.1210 - val_accuracy: 0.9684\n"
     ]
    },
    {
     "name": "stdout",
     "output_type": "stream",
     "text": [
      "Epoch 10/55\n",
      "3651/3651 [==============================] - ETA: 1s - loss: 0.1529 - accuracy: 0.95 - ETA: 1s - loss: 0.0872 - accuracy: 0.97 - ETA: 1s - loss: 0.1080 - accuracy: 0.96 - ETA: 0s - loss: 0.1032 - accuracy: 0.96 - ETA: 0s - loss: 0.1040 - accuracy: 0.96 - ETA: 0s - loss: 0.0970 - accuracy: 0.96 - ETA: 0s - loss: 0.0887 - accuracy: 0.97 - ETA: 0s - loss: 0.0817 - accuracy: 0.97 - ETA: 0s - loss: 0.0775 - accuracy: 0.97 - ETA: 0s - loss: 0.0756 - accuracy: 0.97 - ETA: 0s - loss: 0.0751 - accuracy: 0.97 - ETA: 0s - loss: 0.0732 - accuracy: 0.97 - ETA: 0s - loss: 0.0700 - accuracy: 0.97 - ETA: 0s - loss: 0.0680 - accuracy: 0.97 - ETA: 0s - loss: 0.0651 - accuracy: 0.97 - ETA: 0s - loss: 0.0653 - accuracy: 0.97 - ETA: 0s - loss: 0.0641 - accuracy: 0.97 - ETA: 0s - loss: 0.0665 - accuracy: 0.97 - ETA: 0s - loss: 0.0672 - accuracy: 0.97 - 2s 425us/step - loss: 0.0664 - accuracy: 0.9797 - val_loss: 0.0403 - val_accuracy: 0.9897\n",
      "Epoch 11/55\n",
      "3651/3651 [==============================] - ETA: 1s - loss: 0.0146 - accuracy: 1.00 - ETA: 1s - loss: 0.0568 - accuracy: 0.98 - ETA: 1s - loss: 0.0553 - accuracy: 0.98 - ETA: 1s - loss: 0.0502 - accuracy: 0.98 - ETA: 1s - loss: 0.0469 - accuracy: 0.98 - ETA: 1s - loss: 0.0539 - accuracy: 0.98 - ETA: 1s - loss: 0.0555 - accuracy: 0.98 - ETA: 0s - loss: 0.0572 - accuracy: 0.98 - ETA: 0s - loss: 0.0623 - accuracy: 0.98 - ETA: 0s - loss: 0.0621 - accuracy: 0.97 - ETA: 0s - loss: 0.0608 - accuracy: 0.98 - ETA: 0s - loss: 0.0610 - accuracy: 0.98 - ETA: 0s - loss: 0.0636 - accuracy: 0.97 - ETA: 0s - loss: 0.0649 - accuracy: 0.97 - ETA: 0s - loss: 0.0621 - accuracy: 0.97 - ETA: 0s - loss: 0.0612 - accuracy: 0.97 - ETA: 0s - loss: 0.0589 - accuracy: 0.98 - ETA: 0s - loss: 0.0574 - accuracy: 0.98 - ETA: 0s - loss: 0.0558 - accuracy: 0.98 - ETA: 0s - loss: 0.0566 - accuracy: 0.98 - 2s 493us/step - loss: 0.0566 - accuracy: 0.9811 - val_loss: 0.0424 - val_accuracy: 0.9897\n",
      "Epoch 12/55\n",
      "3651/3651 [==============================] - ETA: 1s - loss: 0.0227 - accuracy: 1.00 - ETA: 1s - loss: 0.0540 - accuracy: 0.98 - ETA: 1s - loss: 0.0534 - accuracy: 0.98 - ETA: 1s - loss: 0.0482 - accuracy: 0.98 - ETA: 1s - loss: 0.0428 - accuracy: 0.98 - ETA: 1s - loss: 0.0392 - accuracy: 0.98 - ETA: 1s - loss: 0.0414 - accuracy: 0.98 - ETA: 1s - loss: 0.0383 - accuracy: 0.98 - ETA: 0s - loss: 0.0368 - accuracy: 0.98 - ETA: 0s - loss: 0.0402 - accuracy: 0.98 - ETA: 0s - loss: 0.0380 - accuracy: 0.98 - ETA: 0s - loss: 0.0365 - accuracy: 0.98 - ETA: 0s - loss: 0.0351 - accuracy: 0.98 - ETA: 0s - loss: 0.0400 - accuracy: 0.98 - ETA: 0s - loss: 0.0426 - accuracy: 0.98 - ETA: 0s - loss: 0.0450 - accuracy: 0.98 - ETA: 0s - loss: 0.0457 - accuracy: 0.98 - ETA: 0s - loss: 0.0452 - accuracy: 0.98 - ETA: 0s - loss: 0.0445 - accuracy: 0.98 - ETA: 0s - loss: 0.0443 - accuracy: 0.98 - ETA: 0s - loss: 0.0431 - accuracy: 0.98 - ETA: 0s - loss: 0.0421 - accuracy: 0.98 - 2s 506us/step - loss: 0.0418 - accuracy: 0.9871 - val_loss: 0.0404 - val_accuracy: 0.9901\n",
      "Epoch 13/55\n",
      "3651/3651 [==============================] - ETA: 1s - loss: 0.0591 - accuracy: 0.97 - ETA: 0s - loss: 0.0416 - accuracy: 0.98 - ETA: 1s - loss: 0.0433 - accuracy: 0.98 - ETA: 1s - loss: 0.0479 - accuracy: 0.98 - ETA: 1s - loss: 0.0437 - accuracy: 0.98 - ETA: 0s - loss: 0.0450 - accuracy: 0.98 - ETA: 0s - loss: 0.0438 - accuracy: 0.98 - ETA: 0s - loss: 0.0401 - accuracy: 0.98 - ETA: 0s - loss: 0.0399 - accuracy: 0.98 - ETA: 0s - loss: 0.0438 - accuracy: 0.98 - ETA: 0s - loss: 0.0470 - accuracy: 0.98 - ETA: 0s - loss: 0.0452 - accuracy: 0.98 - ETA: 0s - loss: 0.0467 - accuracy: 0.98 - ETA: 0s - loss: 0.0468 - accuracy: 0.98 - ETA: 0s - loss: 0.0456 - accuracy: 0.98 - ETA: 0s - loss: 0.0450 - accuracy: 0.98 - ETA: 0s - loss: 0.0456 - accuracy: 0.98 - ETA: 0s - loss: 0.0440 - accuracy: 0.98 - ETA: 0s - loss: 0.0423 - accuracy: 0.98 - 2s 464us/step - loss: 0.0419 - accuracy: 0.9863 - val_loss: 0.0683 - val_accuracy: 0.9803\n",
      "Epoch 14/55\n",
      "3651/3651 [==============================] - ETA: 1s - loss: 0.0736 - accuracy: 0.99 - ETA: 1s - loss: 0.0926 - accuracy: 0.98 - ETA: 1s - loss: 0.0877 - accuracy: 0.97 - ETA: 1s - loss: 0.0688 - accuracy: 0.98 - ETA: 1s - loss: 0.0582 - accuracy: 0.98 - ETA: 1s - loss: 0.0535 - accuracy: 0.98 - ETA: 0s - loss: 0.0564 - accuracy: 0.98 - ETA: 0s - loss: 0.0524 - accuracy: 0.98 - ETA: 0s - loss: 0.0510 - accuracy: 0.98 - ETA: 0s - loss: 0.0474 - accuracy: 0.98 - ETA: 0s - loss: 0.0479 - accuracy: 0.98 - ETA: 0s - loss: 0.0465 - accuracy: 0.98 - ETA: 0s - loss: 0.0458 - accuracy: 0.98 - ETA: 0s - loss: 0.0499 - accuracy: 0.98 - ETA: 0s - loss: 0.0494 - accuracy: 0.98 - ETA: 0s - loss: 0.0471 - accuracy: 0.98 - ETA: 0s - loss: 0.0460 - accuracy: 0.98 - ETA: 0s - loss: 0.0436 - accuracy: 0.98 - ETA: 0s - loss: 0.0419 - accuracy: 0.98 - 2s 419us/step - loss: 0.0415 - accuracy: 0.9879 - val_loss: 0.0282 - val_accuracy: 0.9922\n",
      "Epoch 15/55\n",
      "3651/3651 [==============================] - ETA: 1s - loss: 0.0747 - accuracy: 0.97 - ETA: 1s - loss: 0.0410 - accuracy: 0.99 - ETA: 1s - loss: 0.0285 - accuracy: 0.99 - ETA: 1s - loss: 0.0226 - accuracy: 0.99 - ETA: 0s - loss: 0.0263 - accuracy: 0.99 - ETA: 0s - loss: 0.0287 - accuracy: 0.99 - ETA: 0s - loss: 0.0263 - accuracy: 0.99 - ETA: 0s - loss: 0.0268 - accuracy: 0.99 - ETA: 0s - loss: 0.0260 - accuracy: 0.99 - ETA: 0s - loss: 0.0278 - accuracy: 0.99 - ETA: 0s - loss: 0.0288 - accuracy: 0.99 - ETA: 0s - loss: 0.0271 - accuracy: 0.99 - ETA: 0s - loss: 0.0254 - accuracy: 0.99 - ETA: 0s - loss: 0.0243 - accuracy: 0.99 - ETA: 0s - loss: 0.0262 - accuracy: 0.99 - ETA: 0s - loss: 0.0249 - accuracy: 0.99 - ETA: 0s - loss: 0.0251 - accuracy: 0.99 - ETA: 0s - loss: 0.0249 - accuracy: 0.99 - ETA: 0s - loss: 0.0245 - accuracy: 0.99 - 2s 443us/step - loss: 0.0264 - accuracy: 0.9932 - val_loss: 0.0723 - val_accuracy: 0.9799\n",
      "Epoch 16/55\n",
      "3651/3651 [==============================] - ETA: 1s - loss: 0.0957 - accuracy: 0.98 - ETA: 1s - loss: 0.0395 - accuracy: 0.99 - ETA: 1s - loss: 0.0280 - accuracy: 0.99 - ETA: 1s - loss: 0.0242 - accuracy: 0.99 - ETA: 1s - loss: 0.0287 - accuracy: 0.99 - ETA: 1s - loss: 0.0251 - accuracy: 0.99 - ETA: 0s - loss: 0.0267 - accuracy: 0.99 - ETA: 0s - loss: 0.0275 - accuracy: 0.99 - ETA: 0s - loss: 0.0273 - accuracy: 0.99 - ETA: 0s - loss: 0.0268 - accuracy: 0.99 - ETA: 0s - loss: 0.0262 - accuracy: 0.99 - ETA: 0s - loss: 0.0252 - accuracy: 0.99 - ETA: 0s - loss: 0.0239 - accuracy: 0.99 - ETA: 0s - loss: 0.0236 - accuracy: 0.99 - ETA: 0s - loss: 0.0224 - accuracy: 0.99 - ETA: 0s - loss: 0.0215 - accuracy: 0.99 - ETA: 0s - loss: 0.0218 - accuracy: 0.99 - ETA: 0s - loss: 0.0217 - accuracy: 0.99 - ETA: 0s - loss: 0.0212 - accuracy: 0.99 - 2s 468us/step - loss: 0.0208 - accuracy: 0.9940 - val_loss: 0.0277 - val_accuracy: 0.9926\n",
      "Epoch 17/55\n",
      "3651/3651 [==============================] - ETA: 1s - loss: 0.0053 - accuracy: 1.00 - ETA: 1s - loss: 0.0648 - accuracy: 0.98 - ETA: 0s - loss: 0.0544 - accuracy: 0.98 - ETA: 0s - loss: 0.0566 - accuracy: 0.98 - ETA: 0s - loss: 0.0466 - accuracy: 0.98 - ETA: 0s - loss: 0.0535 - accuracy: 0.98 - ETA: 0s - loss: 0.0578 - accuracy: 0.98 - ETA: 0s - loss: 0.0563 - accuracy: 0.98 - ETA: 0s - loss: 0.0513 - accuracy: 0.98 - ETA: 0s - loss: 0.0493 - accuracy: 0.98 - ETA: 0s - loss: 0.0473 - accuracy: 0.98 - ETA: 0s - loss: 0.0450 - accuracy: 0.98 - ETA: 0s - loss: 0.0419 - accuracy: 0.98 - ETA: 0s - loss: 0.0399 - accuracy: 0.98 - ETA: 0s - loss: 0.0412 - accuracy: 0.98 - ETA: 0s - loss: 0.0415 - accuracy: 0.98 - ETA: 0s - loss: 0.0400 - accuracy: 0.98 - ETA: 0s - loss: 0.0380 - accuracy: 0.99 - 1s 404us/step - loss: 0.0376 - accuracy: 0.9901 - val_loss: 0.0228 - val_accuracy: 0.9938\n",
      "Epoch 18/55\n",
      "3651/3651 [==============================] - ETA: 1s - loss: 0.0209 - accuracy: 0.99 - ETA: 0s - loss: 0.0197 - accuracy: 0.99 - ETA: 0s - loss: 0.0197 - accuracy: 0.99 - ETA: 0s - loss: 0.0165 - accuracy: 0.99 - ETA: 0s - loss: 0.0189 - accuracy: 0.99 - ETA: 0s - loss: 0.0187 - accuracy: 0.99 - ETA: 0s - loss: 0.0189 - accuracy: 0.99 - ETA: 0s - loss: 0.0184 - accuracy: 0.99 - ETA: 0s - loss: 0.0235 - accuracy: 0.99 - ETA: 0s - loss: 0.0220 - accuracy: 0.99 - ETA: 0s - loss: 0.0219 - accuracy: 0.99 - ETA: 0s - loss: 0.0209 - accuracy: 0.99 - ETA: 0s - loss: 0.0205 - accuracy: 0.99 - ETA: 0s - loss: 0.0196 - accuracy: 0.99 - ETA: 0s - loss: 0.0188 - accuracy: 0.99 - ETA: 0s - loss: 0.0180 - accuracy: 0.99 - ETA: 0s - loss: 0.0177 - accuracy: 0.99 - ETA: 0s - loss: 0.0172 - accuracy: 0.99 - 1s 378us/step - loss: 0.0176 - accuracy: 0.9956 - val_loss: 0.0344 - val_accuracy: 0.9893\n",
      "Epoch 19/55\n",
      "3651/3651 [==============================] - ETA: 1s - loss: 0.0441 - accuracy: 0.98 - ETA: 1s - loss: 0.0307 - accuracy: 0.99 - ETA: 0s - loss: 0.0207 - accuracy: 0.99 - ETA: 0s - loss: 0.0160 - accuracy: 0.99 - ETA: 0s - loss: 0.0152 - accuracy: 0.99 - ETA: 0s - loss: 0.0136 - accuracy: 0.99 - ETA: 0s - loss: 0.0125 - accuracy: 0.99 - ETA: 0s - loss: 0.0121 - accuracy: 0.99 - ETA: 0s - loss: 0.0121 - accuracy: 0.99 - ETA: 0s - loss: 0.0124 - accuracy: 0.99 - ETA: 0s - loss: 0.0129 - accuracy: 0.99 - ETA: 0s - loss: 0.0148 - accuracy: 0.99 - ETA: 0s - loss: 0.0185 - accuracy: 0.99 - ETA: 0s - loss: 0.0176 - accuracy: 0.99 - ETA: 0s - loss: 0.0173 - accuracy: 0.99 - ETA: 0s - loss: 0.0167 - accuracy: 0.99 - ETA: 0s - loss: 0.0173 - accuracy: 0.99 - ETA: 0s - loss: 0.0172 - accuracy: 0.99 - 1s 382us/step - loss: 0.0176 - accuracy: 0.9962 - val_loss: 0.0330 - val_accuracy: 0.9918\n",
      "Epoch 20/55\n",
      "3651/3651 [==============================] - ETA: 1s - loss: 0.0444 - accuracy: 0.97 - ETA: 1s - loss: 0.0239 - accuracy: 0.98 - ETA: 1s - loss: 0.0226 - accuracy: 0.98 - ETA: 0s - loss: 0.0202 - accuracy: 0.99 - ETA: 0s - loss: 0.0171 - accuracy: 0.99 - ETA: 0s - loss: 0.0143 - accuracy: 0.99 - ETA: 0s - loss: 0.0144 - accuracy: 0.99 - ETA: 0s - loss: 0.0133 - accuracy: 0.99 - ETA: 0s - loss: 0.0139 - accuracy: 0.99 - ETA: 0s - loss: 0.0145 - accuracy: 0.99 - ETA: 0s - loss: 0.0145 - accuracy: 0.99 - ETA: 0s - loss: 0.0136 - accuracy: 0.99 - ETA: 0s - loss: 0.0129 - accuracy: 0.99 - ETA: 0s - loss: 0.0122 - accuracy: 0.99 - ETA: 0s - loss: 0.0120 - accuracy: 0.99 - ETA: 0s - loss: 0.0158 - accuracy: 0.99 - ETA: 0s - loss: 0.0178 - accuracy: 0.99 - ETA: 0s - loss: 0.0176 - accuracy: 0.99 - 1s 395us/step - loss: 0.0171 - accuracy: 0.9942 - val_loss: 0.0178 - val_accuracy: 0.9959\n",
      "Epoch 21/55\n",
      "3651/3651 [==============================] - ETA: 1s - loss: 0.0347 - accuracy: 0.99 - ETA: 1s - loss: 0.0201 - accuracy: 0.99 - ETA: 0s - loss: 0.0215 - accuracy: 0.99 - ETA: 0s - loss: 0.0172 - accuracy: 0.99 - ETA: 0s - loss: 0.0139 - accuracy: 0.99 - ETA: 0s - loss: 0.0122 - accuracy: 0.99 - ETA: 0s - loss: 0.0110 - accuracy: 0.99 - ETA: 0s - loss: 0.0137 - accuracy: 0.99 - ETA: 0s - loss: 0.0160 - accuracy: 0.99 - ETA: 0s - loss: 0.0165 - accuracy: 0.99 - ETA: 0s - loss: 0.0156 - accuracy: 0.99 - ETA: 0s - loss: 0.0163 - accuracy: 0.99 - ETA: 0s - loss: 0.0155 - accuracy: 0.99 - ETA: 0s - loss: 0.0150 - accuracy: 0.99 - ETA: 0s - loss: 0.0153 - accuracy: 0.99 - ETA: 0s - loss: 0.0162 - accuracy: 0.99 - ETA: 0s - loss: 0.0156 - accuracy: 0.99 - ETA: 0s - loss: 0.0150 - accuracy: 0.99 - 1s 373us/step - loss: 0.0159 - accuracy: 0.9948 - val_loss: 0.0240 - val_accuracy: 0.9942\n",
      "Epoch 22/55\n",
      "3651/3651 [==============================] - ETA: 1s - loss: 0.0041 - accuracy: 1.00 - ETA: 1s - loss: 0.0191 - accuracy: 0.99 - ETA: 1s - loss: 0.0242 - accuracy: 0.99 - ETA: 0s - loss: 0.0258 - accuracy: 0.99 - ETA: 0s - loss: 0.0322 - accuracy: 0.98 - ETA: 0s - loss: 0.0320 - accuracy: 0.98 - ETA: 0s - loss: 0.0293 - accuracy: 0.98 - ETA: 0s - loss: 0.0266 - accuracy: 0.99 - ETA: 0s - loss: 0.0256 - accuracy: 0.99 - ETA: 0s - loss: 0.0264 - accuracy: 0.99 - ETA: 0s - loss: 0.0261 - accuracy: 0.99 - ETA: 0s - loss: 0.0248 - accuracy: 0.99 - ETA: 0s - loss: 0.0232 - accuracy: 0.99 - ETA: 0s - loss: 0.0221 - accuracy: 0.99 - ETA: 0s - loss: 0.0213 - accuracy: 0.99 - ETA: 0s - loss: 0.0207 - accuracy: 0.99 - ETA: 0s - loss: 0.0207 - accuracy: 0.99 - ETA: 0s - loss: 0.0197 - accuracy: 0.99 - 1s 377us/step - loss: 0.0189 - accuracy: 0.9940 - val_loss: 0.0233 - val_accuracy: 0.9938\n",
      "Epoch 23/55\n",
      "3651/3651 [==============================] - ETA: 1s - loss: 0.0030 - accuracy: 1.00 - ETA: 1s - loss: 0.0044 - accuracy: 1.00 - ETA: 0s - loss: 0.0032 - accuracy: 1.00 - ETA: 0s - loss: 0.0037 - accuracy: 1.00 - ETA: 0s - loss: 0.0054 - accuracy: 0.99 - ETA: 0s - loss: 0.0065 - accuracy: 0.99 - ETA: 0s - loss: 0.0068 - accuracy: 0.99 - ETA: 0s - loss: 0.0064 - accuracy: 0.99 - ETA: 0s - loss: 0.0115 - accuracy: 0.99 - ETA: 0s - loss: 0.0113 - accuracy: 0.99 - ETA: 0s - loss: 0.0120 - accuracy: 0.99 - ETA: 0s - loss: 0.0120 - accuracy: 0.99 - ETA: 0s - loss: 0.0117 - accuracy: 0.99 - ETA: 0s - loss: 0.0112 - accuracy: 0.99 - ETA: 0s - loss: 0.0106 - accuracy: 0.99 - ETA: 0s - loss: 0.0110 - accuracy: 0.99 - ETA: 0s - loss: 0.0116 - accuracy: 0.99 - ETA: 0s - loss: 0.0114 - accuracy: 0.99 - 1s 377us/step - loss: 0.0112 - accuracy: 0.9964 - val_loss: 0.0205 - val_accuracy: 0.9959\n",
      "Epoch 24/55\n",
      "3651/3651 [==============================] - ETA: 1s - loss: 0.0147 - accuracy: 0.99 - ETA: 1s - loss: 0.0188 - accuracy: 0.99 - ETA: 0s - loss: 0.0141 - accuracy: 0.99 - ETA: 0s - loss: 0.0127 - accuracy: 0.99 - ETA: 0s - loss: 0.0162 - accuracy: 0.99 - ETA: 0s - loss: 0.0157 - accuracy: 0.99 - ETA: 0s - loss: 0.0199 - accuracy: 0.99 - ETA: 0s - loss: 0.0246 - accuracy: 0.99 - ETA: 0s - loss: 0.0241 - accuracy: 0.99 - ETA: 0s - loss: 0.0218 - accuracy: 0.99 - ETA: 0s - loss: 0.0200 - accuracy: 0.99 - ETA: 0s - loss: 0.0187 - accuracy: 0.99 - ETA: 0s - loss: 0.0201 - accuracy: 0.99 - ETA: 0s - loss: 0.0191 - accuracy: 0.99 - ETA: 0s - loss: 0.0182 - accuracy: 0.99 - ETA: 0s - loss: 0.0172 - accuracy: 0.99 - ETA: 0s - loss: 0.0169 - accuracy: 0.99 - ETA: 0s - loss: 0.0162 - accuracy: 0.99 - 1s 393us/step - loss: 0.0157 - accuracy: 0.9951 - val_loss: 0.0201 - val_accuracy: 0.9947\n",
      "Epoch 25/55\n",
      "3651/3651 [==============================] - ETA: 1s - loss: 0.0034 - accuracy: 1.00 - ETA: 1s - loss: 0.0096 - accuracy: 0.99 - ETA: 1s - loss: 0.0080 - accuracy: 0.99 - ETA: 1s - loss: 0.0096 - accuracy: 0.99 - ETA: 1s - loss: 0.0076 - accuracy: 0.99 - ETA: 1s - loss: 0.0064 - accuracy: 0.99 - ETA: 0s - loss: 0.0063 - accuracy: 0.99 - ETA: 0s - loss: 0.0067 - accuracy: 0.99 - ETA: 0s - loss: 0.0062 - accuracy: 0.99 - ETA: 0s - loss: 0.0071 - accuracy: 0.99 - ETA: 0s - loss: 0.0066 - accuracy: 0.99 - ETA: 0s - loss: 0.0074 - accuracy: 0.99 - ETA: 0s - loss: 0.0075 - accuracy: 0.99 - ETA: 0s - loss: 0.0071 - accuracy: 0.99 - ETA: 0s - loss: 0.0086 - accuracy: 0.99 - ETA: 0s - loss: 0.0082 - accuracy: 0.99 - ETA: 0s - loss: 0.0082 - accuracy: 0.99 - ETA: 0s - loss: 0.0082 - accuracy: 0.99 - ETA: 0s - loss: 0.0079 - accuracy: 0.99 - 2s 440us/step - loss: 0.0094 - accuracy: 0.9967 - val_loss: 0.0184 - val_accuracy: 0.9955\n",
      "Epoch 26/55\n",
      "3651/3651 [==============================] - ETA: 1s - loss: 0.0041 - accuracy: 1.00 - ETA: 1s - loss: 0.0038 - accuracy: 1.00 - ETA: 0s - loss: 0.0031 - accuracy: 1.00 - ETA: 0s - loss: 0.0029 - accuracy: 1.00 - ETA: 0s - loss: 0.0057 - accuracy: 0.99 - ETA: 0s - loss: 0.0052 - accuracy: 0.99 - ETA: 0s - loss: 0.0075 - accuracy: 0.99 - ETA: 0s - loss: 0.0083 - accuracy: 0.99 - ETA: 0s - loss: 0.0079 - accuracy: 0.99 - ETA: 0s - loss: 0.0073 - accuracy: 0.99 - ETA: 0s - loss: 0.0103 - accuracy: 0.99 - ETA: 0s - loss: 0.0101 - accuracy: 0.99 - ETA: 0s - loss: 0.0137 - accuracy: 0.99 - ETA: 0s - loss: 0.0135 - accuracy: 0.99 - ETA: 0s - loss: 0.0155 - accuracy: 0.99 - ETA: 0s - loss: 0.0158 - accuracy: 0.99 - ETA: 0s - loss: 0.0152 - accuracy: 0.99 - ETA: 0s - loss: 0.0151 - accuracy: 0.99 - 1s 401us/step - loss: 0.0165 - accuracy: 0.9942 - val_loss: 0.0231 - val_accuracy: 0.9926\n",
      "Epoch 27/55\n"
     ]
    },
    {
     "name": "stdout",
     "output_type": "stream",
     "text": [
      "3651/3651 [==============================] - ETA: 1s - loss: 0.0567 - accuracy: 0.98 - ETA: 1s - loss: 0.0331 - accuracy: 0.99 - ETA: 1s - loss: 0.0311 - accuracy: 0.99 - ETA: 1s - loss: 0.0297 - accuracy: 0.99 - ETA: 1s - loss: 0.0236 - accuracy: 0.99 - ETA: 0s - loss: 0.0245 - accuracy: 0.99 - ETA: 0s - loss: 0.0215 - accuracy: 0.99 - ETA: 0s - loss: 0.0192 - accuracy: 0.99 - ETA: 0s - loss: 0.0182 - accuracy: 0.99 - ETA: 0s - loss: 0.0169 - accuracy: 0.99 - ETA: 0s - loss: 0.0163 - accuracy: 0.99 - ETA: 0s - loss: 0.0149 - accuracy: 0.99 - ETA: 0s - loss: 0.0140 - accuracy: 0.99 - ETA: 0s - loss: 0.0132 - accuracy: 0.99 - ETA: 0s - loss: 0.0132 - accuracy: 0.99 - ETA: 0s - loss: 0.0125 - accuracy: 0.99 - ETA: 0s - loss: 0.0121 - accuracy: 0.99 - ETA: 0s - loss: 0.0118 - accuracy: 0.99 - ETA: 0s - loss: 0.0118 - accuracy: 0.99 - 2s 440us/step - loss: 0.0118 - accuracy: 0.9962 - val_loss: 0.0185 - val_accuracy: 0.9963\n",
      "Epoch 28/55\n",
      "3651/3651 [==============================] - ETA: 1s - loss: 8.8072e-04 - accuracy: 1.00 - ETA: 1s - loss: 0.0040 - accuracy: 1.0000   - ETA: 1s - loss: 0.0046 - accuracy: 1.00 - ETA: 1s - loss: 0.0036 - accuracy: 1.00 - ETA: 0s - loss: 0.0034 - accuracy: 1.00 - ETA: 0s - loss: 0.0034 - accuracy: 1.00 - ETA: 0s - loss: 0.0034 - accuracy: 1.00 - ETA: 0s - loss: 0.0039 - accuracy: 0.99 - ETA: 0s - loss: 0.0037 - accuracy: 0.99 - ETA: 0s - loss: 0.0034 - accuracy: 0.99 - ETA: 0s - loss: 0.0032 - accuracy: 0.99 - ETA: 0s - loss: 0.0036 - accuracy: 0.99 - ETA: 0s - loss: 0.0042 - accuracy: 0.99 - ETA: 0s - loss: 0.0048 - accuracy: 0.99 - ETA: 0s - loss: 0.0047 - accuracy: 0.99 - ETA: 0s - loss: 0.0048 - accuracy: 0.99 - ETA: 0s - loss: 0.0046 - accuracy: 0.99 - ETA: 0s - loss: 0.0049 - accuracy: 0.99 - ETA: 0s - loss: 0.0048 - accuracy: 0.99 - 2s 479us/step - loss: 0.0047 - accuracy: 0.9989 - val_loss: 0.0183 - val_accuracy: 0.9951\n",
      "Epoch 29/55\n",
      "3651/3651 [==============================] - ETA: 1s - loss: 0.0056 - accuracy: 1.00 - ETA: 1s - loss: 0.0154 - accuracy: 0.99 - ETA: 1s - loss: 0.0159 - accuracy: 0.99 - ETA: 1s - loss: 0.0146 - accuracy: 0.99 - ETA: 1s - loss: 0.0117 - accuracy: 0.99 - ETA: 1s - loss: 0.0111 - accuracy: 0.99 - ETA: 0s - loss: 0.0133 - accuracy: 0.99 - ETA: 0s - loss: 0.0117 - accuracy: 0.99 - ETA: 0s - loss: 0.0105 - accuracy: 0.99 - ETA: 0s - loss: 0.0094 - accuracy: 0.99 - ETA: 0s - loss: 0.0087 - accuracy: 0.99 - ETA: 0s - loss: 0.0084 - accuracy: 0.99 - ETA: 0s - loss: 0.0081 - accuracy: 0.99 - ETA: 0s - loss: 0.0078 - accuracy: 0.99 - ETA: 0s - loss: 0.0074 - accuracy: 0.99 - ETA: 0s - loss: 0.0077 - accuracy: 0.99 - ETA: 0s - loss: 0.0076 - accuracy: 0.99 - ETA: 0s - loss: 0.0075 - accuracy: 0.99 - ETA: 0s - loss: 0.0075 - accuracy: 0.99 - 2s 437us/step - loss: 0.0073 - accuracy: 0.9984 - val_loss: 0.0177 - val_accuracy: 0.9963\n",
      "Epoch 30/55\n",
      "3651/3651 [==============================] - ETA: 1s - loss: 0.0063 - accuracy: 1.00 - ETA: 1s - loss: 0.0041 - accuracy: 1.00 - ETA: 1s - loss: 0.0047 - accuracy: 1.00 - ETA: 1s - loss: 0.0066 - accuracy: 0.99 - ETA: 0s - loss: 0.0059 - accuracy: 0.99 - ETA: 0s - loss: 0.0051 - accuracy: 0.99 - ETA: 0s - loss: 0.0061 - accuracy: 0.99 - ETA: 0s - loss: 0.0068 - accuracy: 0.99 - ETA: 0s - loss: 0.0070 - accuracy: 0.99 - ETA: 0s - loss: 0.0064 - accuracy: 0.99 - ETA: 0s - loss: 0.0061 - accuracy: 0.99 - ETA: 0s - loss: 0.0058 - accuracy: 0.99 - ETA: 0s - loss: 0.0057 - accuracy: 0.99 - ETA: 0s - loss: 0.0060 - accuracy: 0.99 - ETA: 0s - loss: 0.0057 - accuracy: 0.99 - ETA: 0s - loss: 0.0056 - accuracy: 0.99 - ETA: 0s - loss: 0.0055 - accuracy: 0.99 - ETA: 0s - loss: 0.0054 - accuracy: 0.99 - ETA: 0s - loss: 0.0057 - accuracy: 0.99 - 2s 417us/step - loss: 0.0057 - accuracy: 0.9986 - val_loss: 0.0223 - val_accuracy: 0.9967\n",
      "Epoch 31/55\n",
      "3651/3651 [==============================] - ETA: 1s - loss: 0.0071 - accuracy: 1.00 - ETA: 1s - loss: 0.0039 - accuracy: 1.00 - ETA: 1s - loss: 0.0037 - accuracy: 1.00 - ETA: 1s - loss: 0.0049 - accuracy: 1.00 - ETA: 0s - loss: 0.0114 - accuracy: 0.99 - ETA: 0s - loss: 0.0100 - accuracy: 0.99 - ETA: 0s - loss: 0.0088 - accuracy: 0.99 - ETA: 0s - loss: 0.0080 - accuracy: 0.99 - ETA: 0s - loss: 0.0079 - accuracy: 0.99 - ETA: 0s - loss: 0.0083 - accuracy: 0.99 - ETA: 0s - loss: 0.0080 - accuracy: 0.99 - ETA: 0s - loss: 0.0076 - accuracy: 0.99 - ETA: 0s - loss: 0.0071 - accuracy: 0.99 - ETA: 0s - loss: 0.0066 - accuracy: 0.99 - ETA: 0s - loss: 0.0067 - accuracy: 0.99 - ETA: 0s - loss: 0.0066 - accuracy: 0.99 - ETA: 0s - loss: 0.0063 - accuracy: 0.99 - ETA: 0s - loss: 0.0060 - accuracy: 0.99 - ETA: 0s - loss: 0.0071 - accuracy: 0.99 - 2s 425us/step - loss: 0.0070 - accuracy: 0.9986 - val_loss: 0.0195 - val_accuracy: 0.9955\n",
      "Epoch 32/55\n",
      "3651/3651 [==============================] - ETA: 1s - loss: 0.0071 - accuracy: 1.00 - ETA: 1s - loss: 0.0059 - accuracy: 1.00 - ETA: 1s - loss: 0.0061 - accuracy: 0.99 - ETA: 1s - loss: 0.0113 - accuracy: 0.99 - ETA: 1s - loss: 0.0144 - accuracy: 0.99 - ETA: 1s - loss: 0.0123 - accuracy: 0.99 - ETA: 1s - loss: 0.0117 - accuracy: 0.99 - ETA: 0s - loss: 0.0103 - accuracy: 0.99 - ETA: 0s - loss: 0.0103 - accuracy: 0.99 - ETA: 0s - loss: 0.0108 - accuracy: 0.99 - ETA: 0s - loss: 0.0103 - accuracy: 0.99 - ETA: 0s - loss: 0.0107 - accuracy: 0.99 - ETA: 0s - loss: 0.0106 - accuracy: 0.99 - ETA: 0s - loss: 0.0103 - accuracy: 0.99 - ETA: 0s - loss: 0.0102 - accuracy: 0.99 - ETA: 0s - loss: 0.0098 - accuracy: 0.99 - ETA: 0s - loss: 0.0102 - accuracy: 0.99 - ETA: 0s - loss: 0.0097 - accuracy: 0.99 - ETA: 0s - loss: 0.0098 - accuracy: 0.99 - ETA: 0s - loss: 0.0139 - accuracy: 0.99 - 2s 472us/step - loss: 0.0137 - accuracy: 0.9956 - val_loss: 0.0187 - val_accuracy: 0.9955\n",
      "Epoch 33/55\n",
      "3651/3651 [==============================] - ETA: 1s - loss: 0.0011 - accuracy: 1.00 - ETA: 1s - loss: 0.0180 - accuracy: 0.99 - ETA: 1s - loss: 0.0213 - accuracy: 0.98 - ETA: 1s - loss: 0.0161 - accuracy: 0.99 - ETA: 1s - loss: 0.0130 - accuracy: 0.99 - ETA: 1s - loss: 0.0118 - accuracy: 0.99 - ETA: 0s - loss: 0.0114 - accuracy: 0.99 - ETA: 0s - loss: 0.0107 - accuracy: 0.99 - ETA: 0s - loss: 0.0098 - accuracy: 0.99 - ETA: 0s - loss: 0.0093 - accuracy: 0.99 - ETA: 0s - loss: 0.0088 - accuracy: 0.99 - ETA: 0s - loss: 0.0080 - accuracy: 0.99 - ETA: 0s - loss: 0.0075 - accuracy: 0.99 - ETA: 0s - loss: 0.0069 - accuracy: 0.99 - ETA: 0s - loss: 0.0067 - accuracy: 0.99 - ETA: 0s - loss: 0.0065 - accuracy: 0.99 - ETA: 0s - loss: 0.0064 - accuracy: 0.99 - ETA: 0s - loss: 0.0065 - accuracy: 0.99 - ETA: 0s - loss: 0.0062 - accuracy: 0.99 - ETA: 0s - loss: 0.0061 - accuracy: 0.99 - 2s 477us/step - loss: 0.0061 - accuracy: 0.9978 - val_loss: 0.0174 - val_accuracy: 0.9955\n",
      "Epoch 34/55\n",
      "3651/3651 [==============================] - ETA: 2s - loss: 0.0110 - accuracy: 1.00 - ETA: 1s - loss: 0.0234 - accuracy: 0.99 - ETA: 1s - loss: 0.0152 - accuracy: 0.99 - ETA: 1s - loss: 0.0120 - accuracy: 0.99 - ETA: 1s - loss: 0.0100 - accuracy: 0.99 - ETA: 1s - loss: 0.0092 - accuracy: 0.99 - ETA: 0s - loss: 0.0080 - accuracy: 0.99 - ETA: 0s - loss: 0.0074 - accuracy: 0.99 - ETA: 0s - loss: 0.0068 - accuracy: 0.99 - ETA: 0s - loss: 0.0061 - accuracy: 0.99 - ETA: 0s - loss: 0.0056 - accuracy: 0.99 - ETA: 0s - loss: 0.0058 - accuracy: 0.99 - ETA: 0s - loss: 0.0060 - accuracy: 0.99 - ETA: 0s - loss: 0.0057 - accuracy: 0.99 - ETA: 0s - loss: 0.0054 - accuracy: 0.99 - ETA: 0s - loss: 0.0052 - accuracy: 0.99 - ETA: 0s - loss: 0.0058 - accuracy: 0.99 - ETA: 0s - loss: 0.0060 - accuracy: 0.99 - ETA: 0s - loss: 0.0059 - accuracy: 0.99 - 2s 469us/step - loss: 0.0058 - accuracy: 0.9992 - val_loss: 0.0205 - val_accuracy: 0.9959\n",
      "Epoch 35/55\n",
      "3651/3651 [==============================] - ETA: 1s - loss: 0.0113 - accuracy: 1.00 - ETA: 1s - loss: 0.0052 - accuracy: 1.00 - ETA: 1s - loss: 0.0044 - accuracy: 1.00 - ETA: 1s - loss: 0.0053 - accuracy: 1.00 - ETA: 1s - loss: 0.0047 - accuracy: 1.00 - ETA: 1s - loss: 0.0043 - accuracy: 1.00 - ETA: 0s - loss: 0.0078 - accuracy: 0.99 - ETA: 0s - loss: 0.0070 - accuracy: 0.99 - ETA: 0s - loss: 0.0081 - accuracy: 0.99 - ETA: 0s - loss: 0.0074 - accuracy: 0.99 - ETA: 0s - loss: 0.0076 - accuracy: 0.99 - ETA: 0s - loss: 0.0071 - accuracy: 0.99 - ETA: 0s - loss: 0.0068 - accuracy: 0.99 - ETA: 0s - loss: 0.0064 - accuracy: 0.99 - ETA: 0s - loss: 0.0067 - accuracy: 0.99 - ETA: 0s - loss: 0.0064 - accuracy: 0.99 - ETA: 0s - loss: 0.0065 - accuracy: 0.99 - ETA: 0s - loss: 0.0061 - accuracy: 0.99 - ETA: 0s - loss: 0.0063 - accuracy: 0.99 - 2s 462us/step - loss: 0.0062 - accuracy: 0.9984 - val_loss: 0.0183 - val_accuracy: 0.9959\n",
      "Epoch 36/55\n",
      "3651/3651 [==============================] - ETA: 1s - loss: 7.8877e-04 - accuracy: 1.00 - ETA: 1s - loss: 0.0061 - accuracy: 1.0000   - ETA: 1s - loss: 0.0040 - accuracy: 1.00 - ETA: 1s - loss: 0.0109 - accuracy: 0.99 - ETA: 0s - loss: 0.0093 - accuracy: 0.99 - ETA: 0s - loss: 0.0080 - accuracy: 0.99 - ETA: 0s - loss: 0.0075 - accuracy: 0.99 - ETA: 0s - loss: 0.0086 - accuracy: 0.99 - ETA: 0s - loss: 0.0090 - accuracy: 0.99 - ETA: 0s - loss: 0.0085 - accuracy: 0.99 - ETA: 0s - loss: 0.0085 - accuracy: 0.99 - ETA: 0s - loss: 0.0091 - accuracy: 0.99 - ETA: 0s - loss: 0.0083 - accuracy: 0.99 - ETA: 0s - loss: 0.0079 - accuracy: 0.99 - ETA: 0s - loss: 0.0076 - accuracy: 0.99 - ETA: 0s - loss: 0.0073 - accuracy: 0.99 - ETA: 0s - loss: 0.0073 - accuracy: 0.99 - ETA: 0s - loss: 0.0072 - accuracy: 0.99 - ETA: 0s - loss: 0.0069 - accuracy: 0.99 - 2s 442us/step - loss: 0.0066 - accuracy: 0.9989 - val_loss: 0.0191 - val_accuracy: 0.9959\n",
      "Epoch 37/55\n",
      "3651/3651 [==============================] - ETA: 1s - loss: 2.5201e-04 - accuracy: 1.00 - ETA: 1s - loss: 0.0012 - accuracy: 1.0000   - ETA: 1s - loss: 9.8962e-04 - accuracy: 1.00 - ETA: 1s - loss: 8.8122e-04 - accuracy: 1.00 - ETA: 1s - loss: 0.0019 - accuracy: 1.0000   - ETA: 1s - loss: 0.0016 - accuracy: 1.00 - ETA: 0s - loss: 0.0015 - accuracy: 1.00 - ETA: 0s - loss: 0.0033 - accuracy: 0.99 - ETA: 0s - loss: 0.0079 - accuracy: 0.99 - ETA: 0s - loss: 0.0074 - accuracy: 0.99 - ETA: 0s - loss: 0.0070 - accuracy: 0.99 - ETA: 0s - loss: 0.0117 - accuracy: 0.99 - ETA: 0s - loss: 0.0116 - accuracy: 0.99 - ETA: 0s - loss: 0.0110 - accuracy: 0.99 - ETA: 0s - loss: 0.0104 - accuracy: 0.99 - ETA: 0s - loss: 0.0112 - accuracy: 0.99 - ETA: 0s - loss: 0.0112 - accuracy: 0.99 - ETA: 0s - loss: 0.0106 - accuracy: 0.99 - ETA: 0s - loss: 0.0100 - accuracy: 0.99 - ETA: 0s - loss: 0.0097 - accuracy: 0.99 - 2s 477us/step - loss: 0.0096 - accuracy: 0.9978 - val_loss: 0.0162 - val_accuracy: 0.9955\n",
      "Epoch 38/55\n",
      "3651/3651 [==============================] - ETA: 1s - loss: 0.0012 - accuracy: 1.00 - ETA: 1s - loss: 0.0014 - accuracy: 1.00 - ETA: 1s - loss: 0.0023 - accuracy: 1.00 - ETA: 1s - loss: 0.0022 - accuracy: 1.00 - ETA: 1s - loss: 0.0018 - accuracy: 1.00 - ETA: 1s - loss: 0.0015 - accuracy: 1.00 - ETA: 0s - loss: 0.0017 - accuracy: 1.00 - ETA: 0s - loss: 0.0018 - accuracy: 1.00 - ETA: 0s - loss: 0.0016 - accuracy: 1.00 - ETA: 0s - loss: 0.0015 - accuracy: 1.00 - ETA: 0s - loss: 0.0014 - accuracy: 1.00 - ETA: 0s - loss: 0.0024 - accuracy: 0.99 - ETA: 0s - loss: 0.0024 - accuracy: 0.99 - ETA: 0s - loss: 0.0024 - accuracy: 0.99 - ETA: 0s - loss: 0.0024 - accuracy: 0.99 - ETA: 0s - loss: 0.0023 - accuracy: 0.99 - ETA: 0s - loss: 0.0035 - accuracy: 0.99 - ETA: 0s - loss: 0.0034 - accuracy: 0.99 - 2s 458us/step - loss: 0.0046 - accuracy: 0.9984 - val_loss: 0.0211 - val_accuracy: 0.9959\n",
      "Epoch 39/55\n",
      "3651/3651 [==============================] - ETA: 1s - loss: 0.0040 - accuracy: 1.00 - ETA: 1s - loss: 0.0051 - accuracy: 0.99 - ETA: 1s - loss: 0.0047 - accuracy: 0.99 - ETA: 0s - loss: 0.0043 - accuracy: 0.99 - ETA: 0s - loss: 0.0038 - accuracy: 0.99 - ETA: 0s - loss: 0.0054 - accuracy: 0.99 - ETA: 0s - loss: 0.0054 - accuracy: 0.99 - ETA: 0s - loss: 0.0049 - accuracy: 0.99 - ETA: 0s - loss: 0.0045 - accuracy: 0.99 - ETA: 0s - loss: 0.0041 - accuracy: 0.99 - ETA: 0s - loss: 0.0044 - accuracy: 0.99 - ETA: 0s - loss: 0.0040 - accuracy: 0.99 - ETA: 0s - loss: 0.0037 - accuracy: 0.99 - ETA: 0s - loss: 0.0035 - accuracy: 0.99 - ETA: 0s - loss: 0.0034 - accuracy: 0.99 - ETA: 0s - loss: 0.0036 - accuracy: 0.99 - ETA: 0s - loss: 0.0049 - accuracy: 0.99 - ETA: 0s - loss: 0.0047 - accuracy: 0.99 - 1s 402us/step - loss: 0.0046 - accuracy: 0.9984 - val_loss: 0.0186 - val_accuracy: 0.9959\n",
      "Epoch 40/55\n",
      "3651/3651 [==============================] - ETA: 1s - loss: 0.0014 - accuracy: 1.00 - ETA: 1s - loss: 0.0076 - accuracy: 0.99 - ETA: 1s - loss: 0.0051 - accuracy: 0.99 - ETA: 0s - loss: 0.0075 - accuracy: 0.99 - ETA: 0s - loss: 0.0062 - accuracy: 0.99 - ETA: 0s - loss: 0.0054 - accuracy: 0.99 - ETA: 0s - loss: 0.0072 - accuracy: 0.99 - ETA: 0s - loss: 0.0065 - accuracy: 0.99 - ETA: 0s - loss: 0.0059 - accuracy: 0.99 - ETA: 0s - loss: 0.0053 - accuracy: 0.99 - ETA: 0s - loss: 0.0057 - accuracy: 0.99 - ETA: 0s - loss: 0.0056 - accuracy: 0.99 - ETA: 0s - loss: 0.0052 - accuracy: 0.99 - ETA: 0s - loss: 0.0049 - accuracy: 0.99 - ETA: 0s - loss: 0.0046 - accuracy: 0.99 - ETA: 0s - loss: 0.0045 - accuracy: 0.99 - ETA: 0s - loss: 0.0044 - accuracy: 0.99 - ETA: 0s - loss: 0.0045 - accuracy: 0.99 - ETA: 0s - loss: 0.0043 - accuracy: 0.99 - 2s 422us/step - loss: 0.0043 - accuracy: 0.9984 - val_loss: 0.0186 - val_accuracy: 0.9975\n",
      "Epoch 41/55\n",
      "3651/3651 [==============================] - ETA: 1s - loss: 1.2969e-04 - accuracy: 1.00 - ETA: 1s - loss: 0.0110 - accuracy: 0.9967   - ETA: 1s - loss: 0.0102 - accuracy: 0.99 - ETA: 1s - loss: 0.0076 - accuracy: 0.99 - ETA: 0s - loss: 0.0072 - accuracy: 0.99 - ETA: 0s - loss: 0.0073 - accuracy: 0.99 - ETA: 0s - loss: 0.0088 - accuracy: 0.99 - ETA: 0s - loss: 0.0083 - accuracy: 0.99 - ETA: 0s - loss: 0.0077 - accuracy: 0.99 - ETA: 0s - loss: 0.0070 - accuracy: 0.99 - ETA: 0s - loss: 0.0067 - accuracy: 0.99 - ETA: 0s - loss: 0.0064 - accuracy: 0.99 - ETA: 0s - loss: 0.0061 - accuracy: 0.99 - ETA: 0s - loss: 0.0057 - accuracy: 0.99 - ETA: 0s - loss: 0.0055 - accuracy: 0.99 - ETA: 0s - loss: 0.0054 - accuracy: 0.99 - ETA: 0s - loss: 0.0057 - accuracy: 0.99 - ETA: 0s - loss: 0.0056 - accuracy: 0.99 - ETA: 0s - loss: 0.0054 - accuracy: 0.99 - 2s 428us/step - loss: 0.0052 - accuracy: 0.9978 - val_loss: 0.0175 - val_accuracy: 0.9963\n",
      "Epoch 42/55\n",
      "3651/3651 [==============================] - ETA: 1s - loss: 6.5162e-04 - accuracy: 1.00 - ETA: 1s - loss: 0.0012 - accuracy: 1.0000   - ETA: 1s - loss: 0.0010 - accuracy: 1.00 - ETA: 0s - loss: 0.0010 - accuracy: 1.00 - ETA: 0s - loss: 9.4782e-04 - accuracy: 1.00 - ETA: 0s - loss: 9.5004e-04 - accuracy: 1.00 - ETA: 0s - loss: 0.0011 - accuracy: 1.0000   - ETA: 0s - loss: 0.0017 - accuracy: 1.00 - ETA: 0s - loss: 0.0015 - accuracy: 1.00 - ETA: 0s - loss: 0.0015 - accuracy: 1.00 - ETA: 0s - loss: 0.0017 - accuracy: 1.00 - ETA: 0s - loss: 0.0017 - accuracy: 1.00 - ETA: 0s - loss: 0.0016 - accuracy: 1.00 - ETA: 0s - loss: 0.0020 - accuracy: 1.00 - ETA: 0s - loss: 0.0021 - accuracy: 1.00 - ETA: 0s - loss: 0.0020 - accuracy: 1.00 - ETA: 0s - loss: 0.0019 - accuracy: 1.00 - ETA: 0s - loss: 0.0021 - accuracy: 1.00 - 2s 413us/step - loss: 0.0020 - accuracy: 1.0000 - val_loss: 0.0221 - val_accuracy: 0.9947\n",
      "Epoch 43/55\n"
     ]
    },
    {
     "name": "stdout",
     "output_type": "stream",
     "text": [
      "3651/3651 [==============================] - ETA: 1s - loss: 0.0063 - accuracy: 1.00 - ETA: 1s - loss: 0.0027 - accuracy: 1.00 - ETA: 1s - loss: 0.0026 - accuracy: 1.00 - ETA: 1s - loss: 0.0018 - accuracy: 1.00 - ETA: 1s - loss: 0.0106 - accuracy: 0.99 - ETA: 0s - loss: 0.0094 - accuracy: 0.99 - ETA: 0s - loss: 0.0086 - accuracy: 0.99 - ETA: 0s - loss: 0.0076 - accuracy: 0.99 - ETA: 0s - loss: 0.0069 - accuracy: 0.99 - ETA: 0s - loss: 0.0065 - accuracy: 0.99 - ETA: 0s - loss: 0.0069 - accuracy: 0.99 - ETA: 0s - loss: 0.0077 - accuracy: 0.99 - ETA: 0s - loss: 0.0076 - accuracy: 0.99 - ETA: 0s - loss: 0.0075 - accuracy: 0.99 - ETA: 0s - loss: 0.0072 - accuracy: 0.99 - ETA: 0s - loss: 0.0086 - accuracy: 0.99 - ETA: 0s - loss: 0.0085 - accuracy: 0.99 - ETA: 0s - loss: 0.0080 - accuracy: 0.99 - ETA: 0s - loss: 0.0076 - accuracy: 0.99 - 1s 400us/step - loss: 0.0073 - accuracy: 0.9989 - val_loss: 0.0192 - val_accuracy: 0.9963\n",
      "Epoch 44/55\n",
      "3651/3651 [==============================] - ETA: 1s - loss: 0.0073 - accuracy: 1.00 - ETA: 1s - loss: 0.0062 - accuracy: 0.99 - ETA: 1s - loss: 0.0068 - accuracy: 0.99 - ETA: 1s - loss: 0.0051 - accuracy: 0.99 - ETA: 0s - loss: 0.0057 - accuracy: 0.99 - ETA: 0s - loss: 0.0047 - accuracy: 0.99 - ETA: 0s - loss: 0.0042 - accuracy: 0.99 - ETA: 0s - loss: 0.0044 - accuracy: 0.99 - ETA: 0s - loss: 0.0040 - accuracy: 0.99 - ETA: 0s - loss: 0.0041 - accuracy: 0.99 - ETA: 0s - loss: 0.0041 - accuracy: 0.99 - ETA: 0s - loss: 0.0039 - accuracy: 0.99 - ETA: 0s - loss: 0.0038 - accuracy: 0.99 - ETA: 0s - loss: 0.0041 - accuracy: 0.99 - ETA: 0s - loss: 0.0042 - accuracy: 0.99 - ETA: 0s - loss: 0.0039 - accuracy: 0.99 - ETA: 0s - loss: 0.0038 - accuracy: 0.99 - ETA: 0s - loss: 0.0038 - accuracy: 0.99 - ETA: 0s - loss: 0.0040 - accuracy: 0.99 - 2s 413us/step - loss: 0.0040 - accuracy: 0.9981 - val_loss: 0.0197 - val_accuracy: 0.9967\n",
      "Epoch 45/55\n",
      "3651/3651 [==============================] - ETA: 1s - loss: 0.0020 - accuracy: 1.00 - ETA: 1s - loss: 8.2699e-04 - accuracy: 1.00 - ETA: 1s - loss: 6.7335e-04 - accuracy: 1.00 - ETA: 0s - loss: 6.1357e-04 - accuracy: 1.00 - ETA: 0s - loss: 6.7297e-04 - accuracy: 1.00 - ETA: 0s - loss: 6.2943e-04 - accuracy: 1.00 - ETA: 0s - loss: 6.4729e-04 - accuracy: 1.00 - ETA: 0s - loss: 6.2223e-04 - accuracy: 1.00 - ETA: 0s - loss: 7.1522e-04 - accuracy: 1.00 - ETA: 0s - loss: 7.5230e-04 - accuracy: 1.00 - ETA: 0s - loss: 8.0994e-04 - accuracy: 1.00 - ETA: 0s - loss: 7.9752e-04 - accuracy: 1.00 - ETA: 0s - loss: 7.4718e-04 - accuracy: 1.00 - ETA: 0s - loss: 7.1323e-04 - accuracy: 1.00 - ETA: 0s - loss: 6.9030e-04 - accuracy: 1.00 - ETA: 0s - loss: 8.9829e-04 - accuracy: 1.00 - ETA: 0s - loss: 0.0015 - accuracy: 0.9997   - ETA: 0s - loss: 0.0019 - accuracy: 0.99 - ETA: 0s - loss: 0.0018 - accuracy: 0.99 - 2s 416us/step - loss: 0.0018 - accuracy: 0.9995 - val_loss: 0.0135 - val_accuracy: 0.9971\n",
      "Epoch 46/55\n",
      "3651/3651 [==============================] - ETA: 1s - loss: 6.2349e-04 - accuracy: 1.00 - ETA: 1s - loss: 6.4451e-04 - accuracy: 1.00 - ETA: 1s - loss: 5.2970e-04 - accuracy: 1.00 - ETA: 1s - loss: 7.5384e-04 - accuracy: 1.00 - ETA: 1s - loss: 0.0019 - accuracy: 0.9987   - ETA: 0s - loss: 0.0016 - accuracy: 0.99 - ETA: 0s - loss: 0.0016 - accuracy: 0.99 - ETA: 0s - loss: 0.0032 - accuracy: 0.99 - ETA: 0s - loss: 0.0028 - accuracy: 0.99 - ETA: 0s - loss: 0.0027 - accuracy: 0.99 - ETA: 0s - loss: 0.0035 - accuracy: 0.99 - ETA: 0s - loss: 0.0037 - accuracy: 0.99 - ETA: 0s - loss: 0.0036 - accuracy: 0.99 - ETA: 0s - loss: 0.0035 - accuracy: 0.99 - ETA: 0s - loss: 0.0038 - accuracy: 0.99 - ETA: 0s - loss: 0.0037 - accuracy: 0.99 - ETA: 0s - loss: 0.0035 - accuracy: 0.99 - ETA: 0s - loss: 0.0033 - accuracy: 0.99 - ETA: 0s - loss: 0.0032 - accuracy: 0.99 - ETA: 0s - loss: 0.0031 - accuracy: 0.99 - 2s 456us/step - loss: 0.0030 - accuracy: 0.9989 - val_loss: 0.0174 - val_accuracy: 0.9959\n",
      "Epoch 47/55\n",
      "3651/3651 [==============================] - ETA: 1s - loss: 5.8502e-04 - accuracy: 1.00 - ETA: 1s - loss: 0.0018 - accuracy: 1.0000   - ETA: 1s - loss: 0.0011 - accuracy: 1.00 - ETA: 0s - loss: 9.8251e-04 - accuracy: 1.00 - ETA: 0s - loss: 8.1580e-04 - accuracy: 1.00 - ETA: 0s - loss: 0.0065 - accuracy: 0.9982   - ETA: 0s - loss: 0.0122 - accuracy: 0.99 - ETA: 0s - loss: 0.0116 - accuracy: 0.99 - ETA: 0s - loss: 0.0106 - accuracy: 0.99 - ETA: 0s - loss: 0.0101 - accuracy: 0.99 - ETA: 0s - loss: 0.0095 - accuracy: 0.99 - ETA: 0s - loss: 0.0089 - accuracy: 0.99 - ETA: 0s - loss: 0.0084 - accuracy: 0.99 - ETA: 0s - loss: 0.0081 - accuracy: 0.99 - ETA: 0s - loss: 0.0079 - accuracy: 0.99 - ETA: 0s - loss: 0.0074 - accuracy: 0.99 - ETA: 0s - loss: 0.0073 - accuracy: 0.99 - ETA: 0s - loss: 0.0071 - accuracy: 0.99 - ETA: 0s - loss: 0.0070 - accuracy: 0.99 - 1s 407us/step - loss: 0.0069 - accuracy: 0.9967 - val_loss: 0.0185 - val_accuracy: 0.9963\n",
      "Epoch 48/55\n",
      "3651/3651 [==============================] - ETA: 1s - loss: 1.2097e-04 - accuracy: 1.00 - ETA: 1s - loss: 3.6050e-04 - accuracy: 1.00 - ETA: 1s - loss: 0.0051 - accuracy: 0.9960   - ETA: 1s - loss: 0.0042 - accuracy: 0.99 - ETA: 0s - loss: 0.0042 - accuracy: 0.99 - ETA: 0s - loss: 0.0046 - accuracy: 0.99 - ETA: 0s - loss: 0.0041 - accuracy: 0.99 - ETA: 0s - loss: 0.0040 - accuracy: 0.99 - ETA: 0s - loss: 0.0048 - accuracy: 0.99 - ETA: 0s - loss: 0.0046 - accuracy: 0.99 - ETA: 0s - loss: 0.0042 - accuracy: 0.99 - ETA: 0s - loss: 0.0045 - accuracy: 0.99 - ETA: 0s - loss: 0.0043 - accuracy: 0.99 - ETA: 0s - loss: 0.0040 - accuracy: 0.99 - ETA: 0s - loss: 0.0038 - accuracy: 0.99 - ETA: 0s - loss: 0.0037 - accuracy: 0.99 - ETA: 0s - loss: 0.0035 - accuracy: 0.99 - ETA: 0s - loss: 0.0034 - accuracy: 0.99 - 2s 426us/step - loss: 0.0037 - accuracy: 0.9984 - val_loss: 0.0304 - val_accuracy: 0.9947\n",
      "Epoch 49/55\n",
      "3651/3651 [==============================] - ETA: 1s - loss: 5.5797e-04 - accuracy: 1.00 - ETA: 1s - loss: 9.6976e-04 - accuracy: 1.00 - ETA: 1s - loss: 0.0018 - accuracy: 1.0000   - ETA: 1s - loss: 0.0017 - accuracy: 1.00 - ETA: 1s - loss: 0.0015 - accuracy: 1.00 - ETA: 1s - loss: 0.0013 - accuracy: 1.00 - ETA: 0s - loss: 0.0011 - accuracy: 1.00 - ETA: 0s - loss: 9.9452e-04 - accuracy: 1.00 - ETA: 0s - loss: 0.0011 - accuracy: 1.0000   - ETA: 0s - loss: 0.0011 - accuracy: 1.00 - ETA: 0s - loss: 0.0013 - accuracy: 1.00 - ETA: 0s - loss: 0.0021 - accuracy: 0.99 - ETA: 0s - loss: 0.0029 - accuracy: 0.99 - ETA: 0s - loss: 0.0031 - accuracy: 0.99 - ETA: 0s - loss: 0.0029 - accuracy: 0.99 - ETA: 0s - loss: 0.0033 - accuracy: 0.99 - ETA: 0s - loss: 0.0034 - accuracy: 0.99 - ETA: 0s - loss: 0.0033 - accuracy: 0.99 - 2s 437us/step - loss: 0.0032 - accuracy: 0.9989 - val_loss: 0.0169 - val_accuracy: 0.9967\n",
      "Epoch 50/55\n",
      "3651/3651 [==============================] - ETA: 1s - loss: 7.3577e-05 - accuracy: 1.00 - ETA: 1s - loss: 8.7577e-04 - accuracy: 1.00 - ETA: 1s - loss: 0.0015 - accuracy: 1.0000   - ETA: 0s - loss: 0.0014 - accuracy: 1.00 - ETA: 0s - loss: 0.0043 - accuracy: 0.99 - ETA: 0s - loss: 0.0086 - accuracy: 0.99 - ETA: 0s - loss: 0.0073 - accuracy: 0.99 - ETA: 0s - loss: 0.0064 - accuracy: 0.99 - ETA: 0s - loss: 0.0061 - accuracy: 0.99 - ETA: 0s - loss: 0.0054 - accuracy: 0.99 - ETA: 0s - loss: 0.0056 - accuracy: 0.99 - ETA: 0s - loss: 0.0052 - accuracy: 0.99 - ETA: 0s - loss: 0.0049 - accuracy: 0.99 - ETA: 0s - loss: 0.0047 - accuracy: 0.99 - ETA: 0s - loss: 0.0044 - accuracy: 0.99 - ETA: 0s - loss: 0.0044 - accuracy: 0.99 - ETA: 0s - loss: 0.0042 - accuracy: 0.99 - ETA: 0s - loss: 0.0044 - accuracy: 0.99 - 2s 418us/step - loss: 0.0044 - accuracy: 0.9992 - val_loss: 0.0205 - val_accuracy: 0.9963\n",
      "Epoch 51/55\n",
      "3651/3651 [==============================] - ETA: 1s - loss: 7.6996e-04 - accuracy: 1.00 - ETA: 1s - loss: 0.0020 - accuracy: 1.0000   - ETA: 1s - loss: 0.0016 - accuracy: 1.00 - ETA: 0s - loss: 0.0109 - accuracy: 0.99 - ETA: 0s - loss: 0.0087 - accuracy: 0.99 - ETA: 0s - loss: 0.0074 - accuracy: 0.99 - ETA: 0s - loss: 0.0067 - accuracy: 0.99 - ETA: 0s - loss: 0.0064 - accuracy: 0.99 - ETA: 0s - loss: 0.0058 - accuracy: 0.99 - ETA: 0s - loss: 0.0054 - accuracy: 0.99 - ETA: 0s - loss: 0.0054 - accuracy: 0.99 - ETA: 0s - loss: 0.0049 - accuracy: 0.99 - ETA: 0s - loss: 0.0048 - accuracy: 0.99 - ETA: 0s - loss: 0.0044 - accuracy: 0.99 - ETA: 0s - loss: 0.0046 - accuracy: 0.99 - ETA: 0s - loss: 0.0044 - accuracy: 0.99 - ETA: 0s - loss: 0.0041 - accuracy: 0.99 - ETA: 0s - loss: 0.0041 - accuracy: 0.99 - ETA: 0s - loss: 0.0039 - accuracy: 0.99 - 2s 428us/step - loss: 0.0039 - accuracy: 0.9992 - val_loss: 0.0187 - val_accuracy: 0.9975\n",
      "Epoch 52/55\n",
      "3651/3651 [==============================] - ETA: 1s - loss: 0.0098 - accuracy: 1.00 - ETA: 1s - loss: 0.0036 - accuracy: 1.00 - ETA: 0s - loss: 0.0029 - accuracy: 1.00 - ETA: 0s - loss: 0.0023 - accuracy: 1.00 - ETA: 0s - loss: 0.0018 - accuracy: 1.00 - ETA: 0s - loss: 0.0015 - accuracy: 1.00 - ETA: 0s - loss: 0.0018 - accuracy: 1.00 - ETA: 0s - loss: 0.0016 - accuracy: 1.00 - ETA: 0s - loss: 0.0015 - accuracy: 1.00 - ETA: 0s - loss: 0.0014 - accuracy: 1.00 - ETA: 0s - loss: 0.0013 - accuracy: 1.00 - ETA: 0s - loss: 0.0013 - accuracy: 1.00 - ETA: 0s - loss: 0.0012 - accuracy: 1.00 - ETA: 0s - loss: 0.0013 - accuracy: 1.00 - ETA: 0s - loss: 0.0012 - accuracy: 1.00 - ETA: 0s - loss: 0.0017 - accuracy: 0.99 - ETA: 0s - loss: 0.0017 - accuracy: 0.99 - ETA: 0s - loss: 0.0019 - accuracy: 0.99 - ETA: 0s - loss: 0.0019 - accuracy: 0.99 - 2s 421us/step - loss: 0.0019 - accuracy: 0.9997 - val_loss: 0.0159 - val_accuracy: 0.9975\n",
      "Epoch 53/55\n",
      "3651/3651 [==============================] - ETA: 1s - loss: 6.0850e-04 - accuracy: 1.00 - ETA: 1s - loss: 4.5325e-04 - accuracy: 1.00 - ETA: 1s - loss: 4.4298e-04 - accuracy: 1.00 - ETA: 0s - loss: 4.4601e-04 - accuracy: 1.00 - ETA: 1s - loss: 7.9042e-04 - accuracy: 1.00 - ETA: 0s - loss: 6.9392e-04 - accuracy: 1.00 - ETA: 0s - loss: 8.8756e-04 - accuracy: 1.00 - ETA: 0s - loss: 8.6182e-04 - accuracy: 1.00 - ETA: 0s - loss: 8.8209e-04 - accuracy: 1.00 - ETA: 0s - loss: 8.0606e-04 - accuracy: 1.00 - ETA: 0s - loss: 7.4305e-04 - accuracy: 1.00 - ETA: 0s - loss: 9.7238e-04 - accuracy: 1.00 - ETA: 0s - loss: 0.0011 - accuracy: 1.0000   - ETA: 0s - loss: 0.0014 - accuracy: 0.99 - ETA: 0s - loss: 0.0033 - accuracy: 0.99 - ETA: 0s - loss: 0.0050 - accuracy: 0.99 - ETA: 0s - loss: 0.0047 - accuracy: 0.99 - ETA: 0s - loss: 0.0048 - accuracy: 0.99 - ETA: 0s - loss: 0.0047 - accuracy: 0.99 - 2s 428us/step - loss: 0.0046 - accuracy: 0.9989 - val_loss: 0.0124 - val_accuracy: 0.9975\n",
      "Epoch 54/55\n",
      "3651/3651 [==============================] - ETA: 1s - loss: 7.9992e-05 - accuracy: 1.00 - ETA: 1s - loss: 2.7666e-04 - accuracy: 1.00 - ETA: 1s - loss: 3.0581e-04 - accuracy: 1.00 - ETA: 1s - loss: 6.1553e-04 - accuracy: 1.00 - ETA: 0s - loss: 5.1779e-04 - accuracy: 1.00 - ETA: 0s - loss: 5.3500e-04 - accuracy: 1.00 - ETA: 0s - loss: 5.1666e-04 - accuracy: 1.00 - ETA: 0s - loss: 6.6082e-04 - accuracy: 1.00 - ETA: 0s - loss: 7.5439e-04 - accuracy: 1.00 - ETA: 0s - loss: 7.6165e-04 - accuracy: 1.00 - ETA: 0s - loss: 7.4656e-04 - accuracy: 1.00 - ETA: 0s - loss: 7.1824e-04 - accuracy: 1.00 - ETA: 0s - loss: 7.2706e-04 - accuracy: 1.00 - ETA: 0s - loss: 7.1421e-04 - accuracy: 1.00 - ETA: 0s - loss: 6.9470e-04 - accuracy: 1.00 - ETA: 0s - loss: 7.8306e-04 - accuracy: 1.00 - ETA: 0s - loss: 9.9384e-04 - accuracy: 1.00 - ETA: 0s - loss: 0.0010 - accuracy: 1.0000   - ETA: 0s - loss: 0.0010 - accuracy: 1.00 - 2s 413us/step - loss: 0.0013 - accuracy: 0.9997 - val_loss: 0.0194 - val_accuracy: 0.9963\n",
      "Epoch 55/55\n",
      "3651/3651 [==============================] - ETA: 1s - loss: 0.0178 - accuracy: 0.99 - ETA: 1s - loss: 0.0073 - accuracy: 0.99 - ETA: 1s - loss: 0.0056 - accuracy: 0.99 - ETA: 1s - loss: 0.0053 - accuracy: 0.99 - ETA: 0s - loss: 0.0063 - accuracy: 0.99 - ETA: 0s - loss: 0.0113 - accuracy: 0.99 - ETA: 0s - loss: 0.0137 - accuracy: 0.99 - ETA: 0s - loss: 0.0133 - accuracy: 0.99 - ETA: 0s - loss: 0.0134 - accuracy: 0.99 - ETA: 0s - loss: 0.0126 - accuracy: 0.99 - ETA: 0s - loss: 0.0115 - accuracy: 0.99 - ETA: 0s - loss: 0.0109 - accuracy: 0.99 - ETA: 0s - loss: 0.0109 - accuracy: 0.99 - ETA: 0s - loss: 0.0101 - accuracy: 0.99 - ETA: 0s - loss: 0.0095 - accuracy: 0.99 - ETA: 0s - loss: 0.0089 - accuracy: 0.99 - ETA: 0s - loss: 0.0084 - accuracy: 0.99 - ETA: 0s - loss: 0.0081 - accuracy: 0.99 - ETA: 0s - loss: 0.0077 - accuracy: 0.99 - 2s 413us/step - loss: 0.0077 - accuracy: 0.9970 - val_loss: 0.0159 - val_accuracy: 0.9963\n"
     ]
    },
    {
     "data": {
      "text/plain": [
       "<keras.callbacks.callbacks.History at 0x20bc960bf60>"
      ]
     },
     "execution_count": 4,
     "metadata": {},
     "output_type": "execute_result"
    }
   ],
   "source": [
    "epochs = 55\n",
    "model = get_model()\n",
    "model.fit(X_train, y_train_hot, batch_size=batch_size, epochs=epochs, verbose=verbose, validation_data=(X_test, y_test_hot))"
   ]
  },
  {
   "cell_type": "code",
   "execution_count": 5,
   "metadata": {
    "scrolled": true
   },
   "outputs": [],
   "source": [
    "model.save('model_alt.h5')"
   ]
  }
 ],
 "metadata": {
  "kernelspec": {
   "display_name": "Python 3",
   "language": "python",
   "name": "python3"
  },
  "language_info": {
   "codemirror_mode": {
    "name": "ipython",
    "version": 3
   },
   "file_extension": ".py",
   "mimetype": "text/x-python",
   "name": "python",
   "nbconvert_exporter": "python",
   "pygments_lexer": "ipython3",
   "version": "3.7.3"
  }
 },
 "nbformat": 4,
 "nbformat_minor": 2
}
