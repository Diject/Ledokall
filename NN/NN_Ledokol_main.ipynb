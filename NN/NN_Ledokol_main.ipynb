{
 "cells": [
  {
   "cell_type": "code",
   "execution_count": 1,
   "metadata": {
    "scrolled": true
   },
   "outputs": [
    {
     "name": "stderr",
     "output_type": "stream",
     "text": [
      "Using TensorFlow backend.\n",
      "Saving vectors of label - '00Ledokol': 100%|█████████████████████████████████████████| 216/216 [00:02<00:00, 98.22it/s]\n",
      "Saving vectors of label - '01Vkluchi': 100%|█████████████████████████████████████████| 255/255 [00:02<00:00, 99.76it/s]\n",
      "Saving vectors of label - '02Proiznesi': 100%|███████████████████████████████████████| 268/268 [00:02<00:00, 98.43it/s]\n",
      "Saving vectors of label - '03Spectrogrammy': 100%|███████████████████████████████████| 297/297 [00:03<00:00, 94.39it/s]\n",
      "Saving vectors of label - '04Temperatyry': 100%|█████████████████████████████████████| 239/239 [00:02<00:00, 98.01it/s]\n",
      "Saving vectors of label - '05Vlaznost': 100%|████████████████████████████████████████| 244/244 [00:02<00:00, 97.98it/s]\n",
      "Saving vectors of label - '06Vremya': 100%|██████████████████████████████████████████| 289/289 [00:02<00:00, 99.31it/s]\n",
      "Saving vectors of label - '07Pozhalysta': 100%|██████████████████████████████████████| 219/219 [00:02<00:00, 99.72it/s]\n",
      "Saving vectors of label - '08Otkluchi': 100%|████████████████████████████████████████| 180/180 [00:01<00:00, 98.09it/s]\n",
      "Saving vectors of label - '09Podsvetky': 100%|███████████████████████████████████████| 185/185 [00:01<00:00, 99.62it/s]\n",
      "Saving vectors of label - '10Zvyk': 100%|████████████████████████████████████████████| 266/266 [00:03<00:00, 84.59it/s]\n",
      "Saving vectors of label - '11Microphone': 100%|██████████████████████████████████████| 219/219 [00:02<00:00, 93.52it/s]\n",
      "Saving vectors of label - '12Sebya': 100%|███████████████████████████████████████████| 212/212 [00:02<00:00, 95.75it/s]\n",
      "Saving vectors of label - '13Ludei': 100%|███████████████████████████████████████████| 127/127 [00:01<00:00, 88.31it/s]\n",
      "Saving vectors of label - '99WNoise': 100%|████████████████████████████████████████| 2759/2759 [00:28<00:00, 97.67it/s]\n"
     ]
    }
   ],
   "source": [
    "%load_ext autoreload\n",
    "%autoreload 2\n",
    "\n",
    "from preprocess import *\n",
    "import keras\n",
    "import librosa.display\n",
    "from keras.models import Sequential\n",
    "from keras.layers import Dense, Dropout, Flatten, Conv2D, MaxPooling2D\n",
    "from keras.utils import to_categorical\n",
    "\n",
    "# Second dimension of the feature is dim2\n",
    "feature_dim_2 = 15\n",
    "\n",
    "# Save data to array file first\n",
    "save_data_to_array(max_len=feature_dim_2)\n",
    "\n",
    "# # Loading train set and test set\n",
    "X_train, X_test, y_train, y_test = get_train_test()\n",
    "\n",
    "# # Feature dimension\n",
    "feature_dim_1 = 21\n",
    "channel = 1\n",
    "epochs = 100\n",
    "batch_size = 100\n",
    "verbose = 1\n",
    "num_classes = 15\n",
    "\n",
    "# Reshaping to perform 2D convolution\n",
    "X_train = X_train.reshape(X_train.shape[0], feature_dim_1, feature_dim_2, channel)\n",
    "X_test = X_test.reshape(X_test.shape[0], feature_dim_1, feature_dim_2, channel)\n",
    "\n",
    "y_train_hot = to_categorical(y_train)\n",
    "y_test_hot = to_categorical(y_test)"
   ]
  },
  {
   "cell_type": "code",
   "execution_count": 5,
   "metadata": {},
   "outputs": [],
   "source": [
    "def get_model():\n",
    "    model = Sequential()\n",
    "    model.add(Conv2D(16, (2, 2), activation='relu', input_shape=(feature_dim_1, feature_dim_2, channel)))\n",
    "    model.add(Conv2D(16, kernel_size=(2, 2), activation='relu'))\n",
    "    model.add(MaxPooling2D((2, 2)))\n",
    "    model.add(Dropout(0.1))\n",
    "    model.add(Conv2D(44, (2, 2), activation='relu'))\n",
    "    model.add(MaxPooling2D((2, 2)))\n",
    "    model.add(Dropout(0.2))\n",
    "    model.add(Flatten())\n",
    "    model.add(Dense(20, activation='relu'))\n",
    "    #model.add(Dense(3, activation='softmax'))\n",
    "    \n",
    "    model.add(Dense(num_classes, activation='softmax'))\n",
    "    model.compile(loss=keras.losses.categorical_crossentropy,\n",
    "                  optimizer=keras.optimizers.Adadelta(),\n",
    "                  metrics=['accuracy'])\n",
    "    return model\n",
    "\n",
    "# Predicts one sample\n",
    "def predict(filepath, model):\n",
    "    sample = wav2mfcc(filepath, max_len=feature_dim_2)\n",
    "    sample_reshaped = sample.reshape(1, feature_dim_1, feature_dim_2, channel)\n",
    "    return get_labels()[0][\n",
    "            np.argmax(model.predict(sample_reshaped))\n",
    "    ]"
   ]
  },
  {
   "cell_type": "markdown",
   "metadata": {},
   "source": [
    "# Building The Model Then Training it"
   ]
  },
  {
   "cell_type": "code",
   "execution_count": 6,
   "metadata": {},
   "outputs": [
    {
     "name": "stdout",
     "output_type": "stream",
     "text": [
      "Train on 3585 samples, validate on 2390 samples\n",
      "Epoch 1/50\n",
      "3585/3585 [==============================] - ETA: 4s - loss: 7.9030 - accuracy: 0.04 - ETA: 1s - loss: 4.6227 - accuracy: 0.14 - ETA: 0s - loss: 3.8140 - accuracy: 0.21 - ETA: 0s - loss: 3.4157 - accuracy: 0.25 - ETA: 0s - loss: 3.1737 - accuracy: 0.28 - ETA: 0s - loss: 3.0091 - accuracy: 0.31 - ETA: 0s - loss: 2.8480 - accuracy: 0.33 - ETA: 0s - loss: 2.7377 - accuracy: 0.34 - ETA: 0s - loss: 2.6446 - accuracy: 0.36 - 1s 222us/step - loss: 2.5878 - accuracy: 0.3662 - val_loss: 1.8610 - val_accuracy: 0.4410\n",
      "Epoch 2/50\n",
      "3585/3585 [==============================] - ETA: 0s - loss: 1.8725 - accuracy: 0.45 - ETA: 0s - loss: 1.8721 - accuracy: 0.46 - ETA: 0s - loss: 1.7850 - accuracy: 0.48 - ETA: 0s - loss: 1.7705 - accuracy: 0.47 - ETA: 0s - loss: 1.7433 - accuracy: 0.48 - ETA: 0s - loss: 1.7345 - accuracy: 0.47 - ETA: 0s - loss: 1.7035 - accuracy: 0.48 - ETA: 0s - loss: 1.6970 - accuracy: 0.48 - ETA: 0s - loss: 1.6853 - accuracy: 0.48 - 1s 181us/step - loss: 1.6737 - accuracy: 0.4817 - val_loss: 1.5097 - val_accuracy: 0.4544\n",
      "Epoch 3/50\n",
      "3585/3585 [==============================] - ETA: 0s - loss: 1.6476 - accuracy: 0.46 - ETA: 0s - loss: 1.4952 - accuracy: 0.50 - ETA: 0s - loss: 1.4997 - accuracy: 0.50 - ETA: 0s - loss: 1.5221 - accuracy: 0.50 - ETA: 0s - loss: 1.5251 - accuracy: 0.49 - ETA: 0s - loss: 1.4945 - accuracy: 0.50 - ETA: 0s - loss: 1.4879 - accuracy: 0.50 - ETA: 0s - loss: 1.4925 - accuracy: 0.50 - ETA: 0s - loss: 1.4727 - accuracy: 0.50 - 1s 180us/step - loss: 1.4679 - accuracy: 0.5038 - val_loss: 1.4034 - val_accuracy: 0.5506\n",
      "Epoch 4/50\n",
      "3585/3585 [==============================] - ETA: 0s - loss: 1.3590 - accuracy: 0.55 - ETA: 0s - loss: 1.3594 - accuracy: 0.54 - ETA: 0s - loss: 1.3857 - accuracy: 0.53 - ETA: 0s - loss: 1.3584 - accuracy: 0.53 - ETA: 0s - loss: 1.3653 - accuracy: 0.53 - ETA: 0s - loss: 1.3766 - accuracy: 0.53 - ETA: 0s - loss: 1.3757 - accuracy: 0.53 - ETA: 0s - loss: 1.3613 - accuracy: 0.54 - ETA: 0s - loss: 1.3496 - accuracy: 0.54 - 1s 187us/step - loss: 1.3461 - accuracy: 0.5437 - val_loss: 1.2555 - val_accuracy: 0.5556\n",
      "Epoch 5/50\n",
      "3585/3585 [==============================] - ETA: 0s - loss: 1.1831 - accuracy: 0.57 - ETA: 0s - loss: 1.2271 - accuracy: 0.57 - ETA: 0s - loss: 1.2127 - accuracy: 0.59 - ETA: 0s - loss: 1.2161 - accuracy: 0.59 - ETA: 0s - loss: 1.2552 - accuracy: 0.58 - ETA: 0s - loss: 1.2752 - accuracy: 0.57 - ETA: 0s - loss: 1.2491 - accuracy: 0.58 - ETA: 0s - loss: 1.2319 - accuracy: 0.58 - ETA: 0s - loss: 1.2223 - accuracy: 0.59 - ETA: 0s - loss: 1.2187 - accuracy: 0.58 - 1s 189us/step - loss: 1.2137 - accuracy: 0.5905 - val_loss: 0.9779 - val_accuracy: 0.6682\n",
      "Epoch 6/50\n",
      "3585/3585 [==============================] - ETA: 0s - loss: 0.9584 - accuracy: 0.70 - ETA: 0s - loss: 1.0359 - accuracy: 0.65 - ETA: 0s - loss: 1.0226 - accuracy: 0.64 - ETA: 0s - loss: 1.0142 - accuracy: 0.64 - ETA: 0s - loss: 0.9901 - accuracy: 0.65 - ETA: 0s - loss: 0.9804 - accuracy: 0.65 - ETA: 0s - loss: 0.9714 - accuracy: 0.66 - ETA: 0s - loss: 0.9662 - accuracy: 0.66 - ETA: 0s - loss: 0.9558 - accuracy: 0.67 - ETA: 0s - loss: 0.9549 - accuracy: 0.67 - 1s 188us/step - loss: 0.9521 - accuracy: 0.6756 - val_loss: 0.7968 - val_accuracy: 0.7540\n",
      "Epoch 7/50\n",
      "3585/3585 [==============================] - ETA: 0s - loss: 0.7863 - accuracy: 0.74 - ETA: 0s - loss: 0.7445 - accuracy: 0.76 - ETA: 0s - loss: 0.7854 - accuracy: 0.74 - ETA: 0s - loss: 0.7738 - accuracy: 0.75 - ETA: 0s - loss: 0.7723 - accuracy: 0.75 - ETA: 0s - loss: 0.7533 - accuracy: 0.75 - ETA: 0s - loss: 0.7504 - accuracy: 0.76 - ETA: 0s - loss: 0.7396 - accuracy: 0.76 - ETA: 0s - loss: 0.7214 - accuracy: 0.77 - 1s 179us/step - loss: 0.7173 - accuracy: 0.7707 - val_loss: 0.4796 - val_accuracy: 0.8649\n",
      "Epoch 8/50\n",
      "3585/3585 [==============================] - ETA: 0s - loss: 0.5437 - accuracy: 0.79 - ETA: 0s - loss: 0.5717 - accuracy: 0.79 - ETA: 0s - loss: 0.5593 - accuracy: 0.81 - ETA: 0s - loss: 0.5725 - accuracy: 0.80 - ETA: 0s - loss: 0.5537 - accuracy: 0.81 - ETA: 0s - loss: 0.5385 - accuracy: 0.81 - ETA: 0s - loss: 0.5345 - accuracy: 0.81 - ETA: 0s - loss: 0.5279 - accuracy: 0.82 - ETA: 0s - loss: 0.5349 - accuracy: 0.81 - 1s 179us/step - loss: 0.5234 - accuracy: 0.8262 - val_loss: 0.3581 - val_accuracy: 0.8895\n",
      "Epoch 9/50\n",
      "3585/3585 [==============================] - ETA: 0s - loss: 0.3697 - accuracy: 0.82 - ETA: 0s - loss: 0.4449 - accuracy: 0.83 - ETA: 0s - loss: 0.4673 - accuracy: 0.83 - ETA: 0s - loss: 0.4667 - accuracy: 0.84 - ETA: 0s - loss: 0.4744 - accuracy: 0.84 - ETA: 0s - loss: 0.4509 - accuracy: 0.84 - ETA: 0s - loss: 0.4388 - accuracy: 0.85 - ETA: 0s - loss: 0.4215 - accuracy: 0.86 - ETA: 0s - loss: 0.4370 - accuracy: 0.85 - 1s 182us/step - loss: 0.4306 - accuracy: 0.8575 - val_loss: 0.2642 - val_accuracy: 0.9280\n",
      "Epoch 10/50\n",
      "3585/3585 [==============================] - ETA: 0s - loss: 0.4419 - accuracy: 0.84 - ETA: 0s - loss: 0.3518 - accuracy: 0.88 - ETA: 0s - loss: 0.3651 - accuracy: 0.88 - ETA: 0s - loss: 0.3871 - accuracy: 0.87 - ETA: 0s - loss: 0.3657 - accuracy: 0.88 - ETA: 0s - loss: 0.3455 - accuracy: 0.88 - ETA: 0s - loss: 0.3418 - accuracy: 0.88 - ETA: 0s - loss: 0.3430 - accuracy: 0.88 - ETA: 0s - loss: 0.3354 - accuracy: 0.89 - 1s 183us/step - loss: 0.3331 - accuracy: 0.8912 - val_loss: 0.2180 - val_accuracy: 0.9456\n",
      "Epoch 11/50\n",
      "3585/3585 [==============================] - ETA: 0s - loss: 0.3985 - accuracy: 0.89 - ETA: 0s - loss: 0.3573 - accuracy: 0.90 - ETA: 0s - loss: 0.3230 - accuracy: 0.90 - ETA: 0s - loss: 0.2878 - accuracy: 0.91 - ETA: 0s - loss: 0.2887 - accuracy: 0.90 - ETA: 0s - loss: 0.2909 - accuracy: 0.90 - ETA: 0s - loss: 0.2853 - accuracy: 0.90 - ETA: 0s - loss: 0.2818 - accuracy: 0.91 - ETA: 0s - loss: 0.2788 - accuracy: 0.91 - 1s 180us/step - loss: 0.2780 - accuracy: 0.9110 - val_loss: 0.2177 - val_accuracy: 0.9410\n",
      "Epoch 12/50\n",
      "3585/3585 [==============================] - ETA: 0s - loss: 0.3729 - accuracy: 0.89 - ETA: 0s - loss: 0.2504 - accuracy: 0.92 - ETA: 0s - loss: 0.2825 - accuracy: 0.91 - ETA: 0s - loss: 0.2615 - accuracy: 0.92 - ETA: 0s - loss: 0.2389 - accuracy: 0.92 - ETA: 0s - loss: 0.2381 - accuracy: 0.93 - ETA: 0s - loss: 0.2327 - accuracy: 0.93 - ETA: 0s - loss: 0.2292 - accuracy: 0.93 - ETA: 0s - loss: 0.2285 - accuracy: 0.93 - 1s 178us/step - loss: 0.2239 - accuracy: 0.9350 - val_loss: 0.1862 - val_accuracy: 0.9402\n",
      "Epoch 13/50\n",
      "3585/3585 [==============================] - ETA: 0s - loss: 0.2732 - accuracy: 0.91 - ETA: 0s - loss: 0.1892 - accuracy: 0.94 - ETA: 0s - loss: 0.1769 - accuracy: 0.94 - ETA: 0s - loss: 0.1763 - accuracy: 0.94 - ETA: 0s - loss: 0.1837 - accuracy: 0.94 - ETA: 0s - loss: 0.1908 - accuracy: 0.94 - ETA: 0s - loss: 0.1948 - accuracy: 0.94 - ETA: 0s - loss: 0.1918 - accuracy: 0.94 - ETA: 0s - loss: 0.1940 - accuracy: 0.94 - 1s 179us/step - loss: 0.1927 - accuracy: 0.9437 - val_loss: 0.1280 - val_accuracy: 0.9707\n",
      "Epoch 14/50\n",
      "3585/3585 [==============================] - ETA: 0s - loss: 0.2143 - accuracy: 0.95 - ETA: 0s - loss: 0.1702 - accuracy: 0.95 - ETA: 0s - loss: 0.1799 - accuracy: 0.94 - ETA: 0s - loss: 0.1729 - accuracy: 0.95 - ETA: 0s - loss: 0.1661 - accuracy: 0.95 - ETA: 0s - loss: 0.1721 - accuracy: 0.95 - ETA: 0s - loss: 0.1665 - accuracy: 0.95 - ETA: 0s - loss: 0.1679 - accuracy: 0.95 - ETA: 0s - loss: 0.1745 - accuracy: 0.95 - 1s 181us/step - loss: 0.1726 - accuracy: 0.9520 - val_loss: 0.1299 - val_accuracy: 0.9653\n",
      "Epoch 15/50\n",
      "3585/3585 [==============================] - ETA: 0s - loss: 0.0776 - accuracy: 0.99 - ETA: 0s - loss: 0.1466 - accuracy: 0.94 - ETA: 0s - loss: 0.1478 - accuracy: 0.94 - ETA: 0s - loss: 0.1377 - accuracy: 0.95 - ETA: 0s - loss: 0.1523 - accuracy: 0.95 - ETA: 0s - loss: 0.1447 - accuracy: 0.95 - ETA: 0s - loss: 0.1498 - accuracy: 0.95 - ETA: 0s - loss: 0.1540 - accuracy: 0.95 - ETA: 0s - loss: 0.1491 - accuracy: 0.95 - 1s 178us/step - loss: 0.1491 - accuracy: 0.9540 - val_loss: 0.0883 - val_accuracy: 0.9782\n",
      "Epoch 16/50\n",
      "3585/3585 [==============================] - ETA: 0s - loss: 0.1430 - accuracy: 0.96 - ETA: 0s - loss: 0.1297 - accuracy: 0.97 - ETA: 0s - loss: 0.1565 - accuracy: 0.96 - ETA: 0s - loss: 0.1660 - accuracy: 0.95 - ETA: 0s - loss: 0.1586 - accuracy: 0.95 - ETA: 0s - loss: 0.1579 - accuracy: 0.95 - ETA: 0s - loss: 0.1582 - accuracy: 0.95 - ETA: 0s - loss: 0.1497 - accuracy: 0.95 - ETA: 0s - loss: 0.1488 - accuracy: 0.95 - 1s 182us/step - loss: 0.1449 - accuracy: 0.9556 - val_loss: 0.0880 - val_accuracy: 0.9778\n",
      "Epoch 17/50\n",
      "3585/3585 [==============================] - ETA: 0s - loss: 0.0898 - accuracy: 0.97 - ETA: 0s - loss: 0.0940 - accuracy: 0.97 - ETA: 0s - loss: 0.0890 - accuracy: 0.97 - ETA: 0s - loss: 0.1070 - accuracy: 0.96 - ETA: 0s - loss: 0.1220 - accuracy: 0.96 - ETA: 0s - loss: 0.1135 - accuracy: 0.96 - ETA: 0s - loss: 0.1139 - accuracy: 0.96 - ETA: 0s - loss: 0.1244 - accuracy: 0.96 - ETA: 0s - loss: 0.1303 - accuracy: 0.96 - 1s 179us/step - loss: 0.1298 - accuracy: 0.9609 - val_loss: 0.0780 - val_accuracy: 0.9799\n",
      "Epoch 18/50\n",
      "3585/3585 [==============================] - ETA: 0s - loss: 0.0933 - accuracy: 0.98 - ETA: 0s - loss: 0.0855 - accuracy: 0.97 - ETA: 0s - loss: 0.0934 - accuracy: 0.97 - ETA: 0s - loss: 0.1069 - accuracy: 0.96 - ETA: 0s - loss: 0.1119 - accuracy: 0.96 - ETA: 0s - loss: 0.1201 - accuracy: 0.96 - ETA: 0s - loss: 0.1160 - accuracy: 0.96 - ETA: 0s - loss: 0.1080 - accuracy: 0.96 - ETA: 0s - loss: 0.1055 - accuracy: 0.96 - 1s 179us/step - loss: 0.1055 - accuracy: 0.9690 - val_loss: 0.0740 - val_accuracy: 0.9770\n",
      "Epoch 19/50\n",
      "3585/3585 [==============================] - ETA: 0s - loss: 0.0414 - accuracy: 1.00 - ETA: 0s - loss: 0.1103 - accuracy: 0.97 - ETA: 0s - loss: 0.1132 - accuracy: 0.96 - ETA: 0s - loss: 0.1018 - accuracy: 0.96 - ETA: 0s - loss: 0.0975 - accuracy: 0.97 - ETA: 0s - loss: 0.1119 - accuracy: 0.96 - ETA: 0s - loss: 0.1236 - accuracy: 0.96 - ETA: 0s - loss: 0.1236 - accuracy: 0.96 - ETA: 0s - loss: 0.1176 - accuracy: 0.96 - 1s 180us/step - loss: 0.1131 - accuracy: 0.9649 - val_loss: 0.0610 - val_accuracy: 0.9820\n",
      "Epoch 20/50\n",
      "3585/3585 [==============================] - ETA: 0s - loss: 0.0723 - accuracy: 0.97 - ETA: 0s - loss: 0.1668 - accuracy: 0.96 - ETA: 0s - loss: 0.1270 - accuracy: 0.97 - ETA: 0s - loss: 0.1248 - accuracy: 0.96 - ETA: 0s - loss: 0.1191 - accuracy: 0.96 - ETA: 0s - loss: 0.1188 - accuracy: 0.96 - ETA: 0s - loss: 0.1115 - accuracy: 0.96 - ETA: 0s - loss: 0.1134 - accuracy: 0.96 - ETA: 0s - loss: 0.1101 - accuracy: 0.96 - 1s 179us/step - loss: 0.1078 - accuracy: 0.9690 - val_loss: 0.0543 - val_accuracy: 0.9854\n",
      "Epoch 21/50\n",
      "3585/3585 [==============================] - ETA: 0s - loss: 0.1071 - accuracy: 0.97 - ETA: 0s - loss: 0.0792 - accuracy: 0.98 - ETA: 0s - loss: 0.0787 - accuracy: 0.97 - ETA: 0s - loss: 0.0722 - accuracy: 0.97 - ETA: 0s - loss: 0.0743 - accuracy: 0.97 - ETA: 0s - loss: 0.0808 - accuracy: 0.97 - ETA: 0s - loss: 0.0874 - accuracy: 0.97 - ETA: 0s - loss: 0.0961 - accuracy: 0.97 - ETA: 0s - loss: 0.0916 - accuracy: 0.97 - 1s 186us/step - loss: 0.0892 - accuracy: 0.9743 - val_loss: 0.0587 - val_accuracy: 0.9845\n",
      "Epoch 22/50\n",
      "3585/3585 [==============================] - ETA: 0s - loss: 0.0363 - accuracy: 0.99 - ETA: 0s - loss: 0.0916 - accuracy: 0.96 - ETA: 0s - loss: 0.0845 - accuracy: 0.97 - ETA: 0s - loss: 0.0815 - accuracy: 0.97 - ETA: 0s - loss: 0.0740 - accuracy: 0.97 - ETA: 0s - loss: 0.0700 - accuracy: 0.97 - ETA: 0s - loss: 0.0746 - accuracy: 0.97 - ETA: 0s - loss: 0.0745 - accuracy: 0.97 - ETA: 0s - loss: 0.0876 - accuracy: 0.97 - 1s 181us/step - loss: 0.0872 - accuracy: 0.9763 - val_loss: 0.0503 - val_accuracy: 0.9849\n",
      "Epoch 23/50\n",
      "3585/3585 [==============================] - ETA: 0s - loss: 0.0315 - accuracy: 0.99 - ETA: 0s - loss: 0.0480 - accuracy: 0.98 - ETA: 0s - loss: 0.0595 - accuracy: 0.98 - ETA: 0s - loss: 0.0690 - accuracy: 0.97 - ETA: 0s - loss: 0.0729 - accuracy: 0.97 - ETA: 0s - loss: 0.0871 - accuracy: 0.97 - ETA: 0s - loss: 0.0820 - accuracy: 0.97 - ETA: 0s - loss: 0.0810 - accuracy: 0.97 - ETA: 0s - loss: 0.0778 - accuracy: 0.98 - 1s 177us/step - loss: 0.0769 - accuracy: 0.9805 - val_loss: 0.0466 - val_accuracy: 0.9891\n",
      "Epoch 24/50\n",
      "3585/3585 [==============================] - ETA: 0s - loss: 0.0509 - accuracy: 0.98 - ETA: 0s - loss: 0.0506 - accuracy: 0.98 - ETA: 0s - loss: 0.0737 - accuracy: 0.97 - ETA: 0s - loss: 0.0698 - accuracy: 0.97 - ETA: 0s - loss: 0.0694 - accuracy: 0.97 - ETA: 0s - loss: 0.0678 - accuracy: 0.97 - ETA: 0s - loss: 0.0697 - accuracy: 0.97 - ETA: 0s - loss: 0.0687 - accuracy: 0.97 - ETA: 0s - loss: 0.0711 - accuracy: 0.97 - 1s 176us/step - loss: 0.0702 - accuracy: 0.9791 - val_loss: 0.0432 - val_accuracy: 0.9891\n",
      "Epoch 25/50\n",
      "3585/3585 [==============================] - ETA: 0s - loss: 0.0623 - accuracy: 0.98 - ETA: 0s - loss: 0.0401 - accuracy: 0.99 - ETA: 0s - loss: 0.0596 - accuracy: 0.98 - ETA: 0s - loss: 0.0717 - accuracy: 0.98 - ETA: 0s - loss: 0.0655 - accuracy: 0.98 - ETA: 0s - loss: 0.0635 - accuracy: 0.98 - ETA: 0s - loss: 0.0665 - accuracy: 0.98 - ETA: 0s - loss: 0.0713 - accuracy: 0.98 - ETA: 0s - loss: 0.0752 - accuracy: 0.98 - 1s 177us/step - loss: 0.0812 - accuracy: 0.9780 - val_loss: 0.0630 - val_accuracy: 0.9837\n",
      "Epoch 26/50\n",
      "3585/3585 [==============================] - ETA: 0s - loss: 0.1400 - accuracy: 0.96 - ETA: 0s - loss: 0.0908 - accuracy: 0.97 - ETA: 0s - loss: 0.0856 - accuracy: 0.97 - ETA: 0s - loss: 0.0858 - accuracy: 0.97 - ETA: 0s - loss: 0.0871 - accuracy: 0.97 - ETA: 0s - loss: 0.0814 - accuracy: 0.97 - ETA: 0s - loss: 0.0777 - accuracy: 0.97 - ETA: 0s - loss: 0.0817 - accuracy: 0.97 - ETA: 0s - loss: 0.0786 - accuracy: 0.97 - 1s 182us/step - loss: 0.0767 - accuracy: 0.9760 - val_loss: 0.0555 - val_accuracy: 0.9841\n",
      "Epoch 27/50\n",
      "3585/3585 [==============================] - ETA: 0s - loss: 0.0929 - accuracy: 0.97 - ETA: 0s - loss: 0.0505 - accuracy: 0.98 - ETA: 0s - loss: 0.0593 - accuracy: 0.98 - ETA: 0s - loss: 0.0535 - accuracy: 0.98 - ETA: 0s - loss: 0.0481 - accuracy: 0.98 - ETA: 0s - loss: 0.0467 - accuracy: 0.98 - ETA: 0s - loss: 0.0529 - accuracy: 0.98 - ETA: 0s - loss: 0.0527 - accuracy: 0.98 - ETA: 0s - loss: 0.0584 - accuracy: 0.98 - 1s 176us/step - loss: 0.0591 - accuracy: 0.9833 - val_loss: 0.0366 - val_accuracy: 0.9895\n",
      "Epoch 28/50\n",
      "3585/3585 [==============================] - ETA: 0s - loss: 0.0798 - accuracy: 0.95 - ETA: 0s - loss: 0.0559 - accuracy: 0.98 - ETA: 0s - loss: 0.0649 - accuracy: 0.97 - ETA: 0s - loss: 0.0637 - accuracy: 0.97 - ETA: 0s - loss: 0.0573 - accuracy: 0.98 - ETA: 0s - loss: 0.0564 - accuracy: 0.98 - ETA: 0s - loss: 0.0599 - accuracy: 0.98 - ETA: 0s - loss: 0.0646 - accuracy: 0.98 - ETA: 0s - loss: 0.0611 - accuracy: 0.98 - 1s 179us/step - loss: 0.0608 - accuracy: 0.9827 - val_loss: 0.0391 - val_accuracy: 0.9870\n",
      "Epoch 29/50\n",
      "3585/3585 [==============================] - ETA: 0s - loss: 0.0923 - accuracy: 0.96 - ETA: 0s - loss: 0.0497 - accuracy: 0.98 - ETA: 0s - loss: 0.0582 - accuracy: 0.98 - ETA: 0s - loss: 0.0515 - accuracy: 0.98 - ETA: 0s - loss: 0.0510 - accuracy: 0.98 - ETA: 0s - loss: 0.0556 - accuracy: 0.98 - ETA: 0s - loss: 0.0538 - accuracy: 0.98 - ETA: 0s - loss: 0.0563 - accuracy: 0.98 - ETA: 0s - loss: 0.0557 - accuracy: 0.98 - 1s 178us/step - loss: 0.0554 - accuracy: 0.9830 - val_loss: 0.0371 - val_accuracy: 0.9908\n",
      "Epoch 30/50\n",
      "3585/3585 [==============================] - ETA: 0s - loss: 0.0688 - accuracy: 0.98 - ETA: 0s - loss: 0.0762 - accuracy: 0.98 - ETA: 0s - loss: 0.0683 - accuracy: 0.98 - ETA: 0s - loss: 0.0602 - accuracy: 0.98 - ETA: 0s - loss: 0.0558 - accuracy: 0.98 - ETA: 0s - loss: 0.0521 - accuracy: 0.98 - ETA: 0s - loss: 0.0537 - accuracy: 0.98 - ETA: 0s - loss: 0.0524 - accuracy: 0.98 - ETA: 0s - loss: 0.0535 - accuracy: 0.98 - 1s 178us/step - loss: 0.0513 - accuracy: 0.9849 - val_loss: 0.0308 - val_accuracy: 0.9921\n",
      "Epoch 31/50\n"
     ]
    },
    {
     "name": "stdout",
     "output_type": "stream",
     "text": [
      "3585/3585 [==============================] - ETA: 0s - loss: 0.0279 - accuracy: 1.00 - ETA: 0s - loss: 0.0315 - accuracy: 0.99 - ETA: 0s - loss: 0.0401 - accuracy: 0.99 - ETA: 0s - loss: 0.0371 - accuracy: 0.99 - ETA: 0s - loss: 0.0349 - accuracy: 0.99 - ETA: 0s - loss: 0.0438 - accuracy: 0.98 - ETA: 0s - loss: 0.0474 - accuracy: 0.98 - ETA: 0s - loss: 0.0510 - accuracy: 0.98 - ETA: 0s - loss: 0.0476 - accuracy: 0.98 - 1s 181us/step - loss: 0.0492 - accuracy: 0.9852 - val_loss: 0.0395 - val_accuracy: 0.9904\n",
      "Epoch 32/50\n",
      "3585/3585 [==============================] - ETA: 0s - loss: 0.1225 - accuracy: 0.97 - ETA: 0s - loss: 0.0461 - accuracy: 0.98 - ETA: 0s - loss: 0.0348 - accuracy: 0.98 - ETA: 0s - loss: 0.0388 - accuracy: 0.98 - ETA: 0s - loss: 0.0466 - accuracy: 0.98 - ETA: 0s - loss: 0.0441 - accuracy: 0.98 - ETA: 0s - loss: 0.0510 - accuracy: 0.98 - ETA: 0s - loss: 0.0478 - accuracy: 0.98 - ETA: 0s - loss: 0.0512 - accuracy: 0.98 - 1s 173us/step - loss: 0.0502 - accuracy: 0.9833 - val_loss: 0.0354 - val_accuracy: 0.9883\n",
      "Epoch 33/50\n",
      "3585/3585 [==============================] - ETA: 0s - loss: 0.0307 - accuracy: 0.99 - ETA: 0s - loss: 0.0446 - accuracy: 0.98 - ETA: 0s - loss: 0.0415 - accuracy: 0.98 - ETA: 0s - loss: 0.0396 - accuracy: 0.99 - ETA: 0s - loss: 0.0337 - accuracy: 0.99 - ETA: 0s - loss: 0.0344 - accuracy: 0.99 - ETA: 0s - loss: 0.0352 - accuracy: 0.99 - ETA: 0s - loss: 0.0426 - accuracy: 0.98 - ETA: 0s - loss: 0.0414 - accuracy: 0.98 - 1s 176us/step - loss: 0.0413 - accuracy: 0.9894 - val_loss: 0.0329 - val_accuracy: 0.9891\n",
      "Epoch 34/50\n",
      "3585/3585 [==============================] - ETA: 0s - loss: 0.0098 - accuracy: 1.00 - ETA: 0s - loss: 0.0191 - accuracy: 0.99 - ETA: 0s - loss: 0.0300 - accuracy: 0.99 - ETA: 0s - loss: 0.0434 - accuracy: 0.98 - ETA: 0s - loss: 0.0372 - accuracy: 0.98 - ETA: 0s - loss: 0.0378 - accuracy: 0.98 - ETA: 0s - loss: 0.0383 - accuracy: 0.98 - ETA: 0s - loss: 0.0402 - accuracy: 0.98 - ETA: 0s - loss: 0.0440 - accuracy: 0.98 - 1s 179us/step - loss: 0.0428 - accuracy: 0.9861 - val_loss: 0.0374 - val_accuracy: 0.9887\n",
      "Epoch 35/50\n",
      "3585/3585 [==============================] - ETA: 0s - loss: 0.0491 - accuracy: 0.99 - ETA: 0s - loss: 0.0616 - accuracy: 0.99 - ETA: 0s - loss: 0.0577 - accuracy: 0.98 - ETA: 0s - loss: 0.0527 - accuracy: 0.98 - ETA: 0s - loss: 0.0474 - accuracy: 0.98 - ETA: 0s - loss: 0.0424 - accuracy: 0.99 - ETA: 0s - loss: 0.0450 - accuracy: 0.98 - ETA: 0s - loss: 0.0459 - accuracy: 0.98 - ETA: 0s - loss: 0.0471 - accuracy: 0.98 - 1s 179us/step - loss: 0.0469 - accuracy: 0.9880 - val_loss: 0.0309 - val_accuracy: 0.9900\n",
      "Epoch 36/50\n",
      "3585/3585 [==============================] - ETA: 0s - loss: 0.0119 - accuracy: 1.00 - ETA: 0s - loss: 0.0283 - accuracy: 0.99 - ETA: 0s - loss: 0.0530 - accuracy: 0.99 - ETA: 0s - loss: 0.0415 - accuracy: 0.99 - ETA: 0s - loss: 0.0361 - accuracy: 0.99 - ETA: 0s - loss: 0.0385 - accuracy: 0.99 - ETA: 0s - loss: 0.0419 - accuracy: 0.99 - ETA: 0s - loss: 0.0414 - accuracy: 0.98 - ETA: 0s - loss: 0.0401 - accuracy: 0.99 - 1s 183us/step - loss: 0.0380 - accuracy: 0.9911 - val_loss: 0.0267 - val_accuracy: 0.9916\n",
      "Epoch 37/50\n",
      "3585/3585 [==============================] - ETA: 0s - loss: 0.0197 - accuracy: 0.99 - ETA: 0s - loss: 0.0298 - accuracy: 0.99 - ETA: 0s - loss: 0.0399 - accuracy: 0.98 - ETA: 0s - loss: 0.0357 - accuracy: 0.98 - ETA: 0s - loss: 0.0401 - accuracy: 0.98 - ETA: 0s - loss: 0.0481 - accuracy: 0.98 - ETA: 0s - loss: 0.0446 - accuracy: 0.98 - ETA: 0s - loss: 0.0462 - accuracy: 0.98 - ETA: 0s - loss: 0.0460 - accuracy: 0.98 - 1s 178us/step - loss: 0.0442 - accuracy: 0.9855 - val_loss: 0.0290 - val_accuracy: 0.9916\n",
      "Epoch 38/50\n",
      "3585/3585 [==============================] - ETA: 0s - loss: 0.0358 - accuracy: 0.99 - ETA: 0s - loss: 0.0459 - accuracy: 0.98 - ETA: 0s - loss: 0.0589 - accuracy: 0.98 - ETA: 0s - loss: 0.0452 - accuracy: 0.98 - ETA: 0s - loss: 0.0471 - accuracy: 0.98 - ETA: 0s - loss: 0.0430 - accuracy: 0.98 - ETA: 0s - loss: 0.0408 - accuracy: 0.98 - ETA: 0s - loss: 0.0383 - accuracy: 0.98 - ETA: 0s - loss: 0.0392 - accuracy: 0.98 - 1s 177us/step - loss: 0.0373 - accuracy: 0.9894 - val_loss: 0.0306 - val_accuracy: 0.9916\n",
      "Epoch 39/50\n",
      "3585/3585 [==============================] - ETA: 0s - loss: 0.0282 - accuracy: 0.99 - ETA: 0s - loss: 0.0249 - accuracy: 0.98 - ETA: 0s - loss: 0.0425 - accuracy: 0.98 - ETA: 0s - loss: 0.0470 - accuracy: 0.98 - ETA: 0s - loss: 0.0408 - accuracy: 0.98 - ETA: 0s - loss: 0.0400 - accuracy: 0.98 - ETA: 0s - loss: 0.0407 - accuracy: 0.98 - ETA: 0s - loss: 0.0388 - accuracy: 0.98 - ETA: 0s - loss: 0.0385 - accuracy: 0.98 - 1s 180us/step - loss: 0.0390 - accuracy: 0.9849 - val_loss: 0.0343 - val_accuracy: 0.9900\n",
      "Epoch 40/50\n",
      "3585/3585 [==============================] - ETA: 0s - loss: 0.0491 - accuracy: 0.99 - ETA: 0s - loss: 0.0348 - accuracy: 0.98 - ETA: 0s - loss: 0.0413 - accuracy: 0.98 - ETA: 0s - loss: 0.0394 - accuracy: 0.98 - ETA: 0s - loss: 0.0399 - accuracy: 0.98 - ETA: 0s - loss: 0.0407 - accuracy: 0.98 - ETA: 0s - loss: 0.0405 - accuracy: 0.98 - ETA: 0s - loss: 0.0425 - accuracy: 0.98 - ETA: 0s - loss: 0.0396 - accuracy: 0.98 - 1s 177us/step - loss: 0.0387 - accuracy: 0.9891 - val_loss: 0.0271 - val_accuracy: 0.9929\n",
      "Epoch 41/50\n",
      "3585/3585 [==============================] - ETA: 0s - loss: 0.0208 - accuracy: 0.99 - ETA: 0s - loss: 0.0540 - accuracy: 0.98 - ETA: 0s - loss: 0.0365 - accuracy: 0.98 - ETA: 0s - loss: 0.0400 - accuracy: 0.98 - ETA: 0s - loss: 0.0344 - accuracy: 0.99 - ETA: 0s - loss: 0.0352 - accuracy: 0.99 - ETA: 0s - loss: 0.0354 - accuracy: 0.99 - ETA: 0s - loss: 0.0335 - accuracy: 0.99 - ETA: 0s - loss: 0.0344 - accuracy: 0.98 - 1s 177us/step - loss: 0.0357 - accuracy: 0.9888 - val_loss: 0.0292 - val_accuracy: 0.9921\n",
      "Epoch 42/50\n",
      "3585/3585 [==============================] - ETA: 0s - loss: 0.0404 - accuracy: 0.99 - ETA: 0s - loss: 0.0238 - accuracy: 0.99 - ETA: 0s - loss: 0.0251 - accuracy: 0.99 - ETA: 0s - loss: 0.0330 - accuracy: 0.99 - ETA: 0s - loss: 0.0313 - accuracy: 0.99 - ETA: 0s - loss: 0.0315 - accuracy: 0.99 - ETA: 0s - loss: 0.0312 - accuracy: 0.99 - ETA: 0s - loss: 0.0321 - accuracy: 0.99 - ETA: 0s - loss: 0.0330 - accuracy: 0.99 - 1s 181us/step - loss: 0.0318 - accuracy: 0.9908 - val_loss: 0.0267 - val_accuracy: 0.9921\n",
      "Epoch 43/50\n",
      "3585/3585 [==============================] - ETA: 0s - loss: 0.0234 - accuracy: 0.99 - ETA: 0s - loss: 0.0210 - accuracy: 0.99 - ETA: 0s - loss: 0.0177 - accuracy: 0.99 - ETA: 0s - loss: 0.0164 - accuracy: 0.99 - ETA: 0s - loss: 0.0175 - accuracy: 0.99 - ETA: 0s - loss: 0.0250 - accuracy: 0.99 - ETA: 0s - loss: 0.0257 - accuracy: 0.99 - ETA: 0s - loss: 0.0255 - accuracy: 0.99 - ETA: 0s - loss: 0.0281 - accuracy: 0.99 - 1s 174us/step - loss: 0.0322 - accuracy: 0.9900 - val_loss: 0.0279 - val_accuracy: 0.9929\n",
      "Epoch 44/50\n",
      "3585/3585 [==============================] - ETA: 0s - loss: 0.0384 - accuracy: 0.99 - ETA: 0s - loss: 0.0219 - accuracy: 0.99 - ETA: 0s - loss: 0.0230 - accuracy: 0.99 - ETA: 0s - loss: 0.0215 - accuracy: 0.99 - ETA: 0s - loss: 0.0278 - accuracy: 0.99 - ETA: 0s - loss: 0.0269 - accuracy: 0.99 - ETA: 0s - loss: 0.0253 - accuracy: 0.99 - ETA: 0s - loss: 0.0296 - accuracy: 0.99 - ETA: 0s - loss: 0.0290 - accuracy: 0.99 - 1s 176us/step - loss: 0.0309 - accuracy: 0.9905 - val_loss: 0.0312 - val_accuracy: 0.9908\n",
      "Epoch 45/50\n",
      "3585/3585 [==============================] - ETA: 0s - loss: 0.0239 - accuracy: 0.99 - ETA: 0s - loss: 0.0389 - accuracy: 0.98 - ETA: 0s - loss: 0.0249 - accuracy: 0.99 - ETA: 0s - loss: 0.0259 - accuracy: 0.99 - ETA: 0s - loss: 0.0252 - accuracy: 0.99 - ETA: 0s - loss: 0.0234 - accuracy: 0.99 - ETA: 0s - loss: 0.0288 - accuracy: 0.99 - ETA: 0s - loss: 0.0306 - accuracy: 0.99 - ETA: 0s - loss: 0.0351 - accuracy: 0.99 - 1s 185us/step - loss: 0.0332 - accuracy: 0.9908 - val_loss: 0.0219 - val_accuracy: 0.9941\n",
      "Epoch 46/50\n",
      "3585/3585 [==============================] - ETA: 0s - loss: 0.0556 - accuracy: 0.99 - ETA: 0s - loss: 0.0307 - accuracy: 0.99 - ETA: 0s - loss: 0.0288 - accuracy: 0.99 - ETA: 0s - loss: 0.0264 - accuracy: 0.99 - ETA: 0s - loss: 0.0236 - accuracy: 0.99 - ETA: 0s - loss: 0.0312 - accuracy: 0.99 - ETA: 0s - loss: 0.0343 - accuracy: 0.99 - ETA: 0s - loss: 0.0345 - accuracy: 0.99 - ETA: 0s - loss: 0.0324 - accuracy: 0.99 - 1s 186us/step - loss: 0.0306 - accuracy: 0.9914 - val_loss: 0.0240 - val_accuracy: 0.9925\n",
      "Epoch 47/50\n",
      "3585/3585 [==============================] - ETA: 0s - loss: 0.0908 - accuracy: 0.98 - ETA: 0s - loss: 0.0495 - accuracy: 0.98 - ETA: 0s - loss: 0.0446 - accuracy: 0.98 - ETA: 0s - loss: 0.0376 - accuracy: 0.98 - ETA: 0s - loss: 0.0317 - accuracy: 0.99 - ETA: 0s - loss: 0.0295 - accuracy: 0.99 - ETA: 0s - loss: 0.0299 - accuracy: 0.99 - ETA: 0s - loss: 0.0311 - accuracy: 0.99 - ETA: 0s - loss: 0.0333 - accuracy: 0.98 - 1s 177us/step - loss: 0.0333 - accuracy: 0.9891 - val_loss: 0.0242 - val_accuracy: 0.9921\n",
      "Epoch 48/50\n",
      "3585/3585 [==============================] - ETA: 0s - loss: 0.0100 - accuracy: 1.00 - ETA: 0s - loss: 0.0124 - accuracy: 0.99 - ETA: 0s - loss: 0.0188 - accuracy: 0.99 - ETA: 0s - loss: 0.0199 - accuracy: 0.99 - ETA: 0s - loss: 0.0316 - accuracy: 0.99 - ETA: 0s - loss: 0.0294 - accuracy: 0.99 - ETA: 0s - loss: 0.0271 - accuracy: 0.99 - ETA: 0s - loss: 0.0266 - accuracy: 0.99 - ETA: 0s - loss: 0.0264 - accuracy: 0.99 - 1s 178us/step - loss: 0.0252 - accuracy: 0.9927 - val_loss: 0.0226 - val_accuracy: 0.9925\n",
      "Epoch 49/50\n",
      "3585/3585 [==============================] - ETA: 0s - loss: 0.0420 - accuracy: 0.97 - ETA: 0s - loss: 0.0280 - accuracy: 0.98 - ETA: 0s - loss: 0.0269 - accuracy: 0.99 - ETA: 0s - loss: 0.0320 - accuracy: 0.99 - ETA: 0s - loss: 0.0261 - accuracy: 0.99 - ETA: 0s - loss: 0.0250 - accuracy: 0.99 - ETA: 0s - loss: 0.0234 - accuracy: 0.99 - ETA: 0s - loss: 0.0215 - accuracy: 0.99 - ETA: 0s - loss: 0.0205 - accuracy: 0.99 - 1s 173us/step - loss: 0.0203 - accuracy: 0.9953 - val_loss: 0.0258 - val_accuracy: 0.9916\n",
      "Epoch 50/50\n",
      "3585/3585 [==============================] - ETA: 0s - loss: 0.1056 - accuracy: 0.99 - ETA: 0s - loss: 0.0345 - accuracy: 0.99 - ETA: 0s - loss: 0.0258 - accuracy: 0.99 - ETA: 0s - loss: 0.0261 - accuracy: 0.99 - ETA: 0s - loss: 0.0282 - accuracy: 0.99 - ETA: 0s - loss: 0.0271 - accuracy: 0.99 - ETA: 0s - loss: 0.0257 - accuracy: 0.99 - ETA: 0s - loss: 0.0240 - accuracy: 0.99 - ETA: 0s - loss: 0.0227 - accuracy: 0.99 - 1s 176us/step - loss: 0.0216 - accuracy: 0.9933 - val_loss: 0.0280 - val_accuracy: 0.9933\n"
     ]
    },
    {
     "data": {
      "text/plain": [
       "<keras.callbacks.callbacks.History at 0x203bbd9a1d0>"
      ]
     },
     "execution_count": 6,
     "metadata": {},
     "output_type": "execute_result"
    }
   ],
   "source": [
    "epochs = 50\n",
    "model = get_model()\n",
    "model.fit(X_train, y_train_hot, batch_size=batch_size, epochs=epochs, verbose=verbose, validation_data=(X_test, y_test_hot))"
   ]
  },
  {
   "cell_type": "code",
   "execution_count": 7,
   "metadata": {
    "scrolled": true
   },
   "outputs": [],
   "source": [
    "model.save('model.h5')"
   ]
  },
  {
   "cell_type": "markdown",
   "metadata": {},
   "source": [
    "## Prediction"
   ]
  },
  {
   "cell_type": "code",
   "execution_count": 6,
   "metadata": {
    "scrolled": true
   },
   "outputs": [
    {
     "name": "stdout",
     "output_type": "stream",
     "text": [
      "06Vremya\n"
     ]
    }
   ],
   "source": [
    "print(predict('./data/06Vremya/a00010.wav', model=model))"
   ]
  },
  {
   "cell_type": "code",
   "execution_count": 7,
   "metadata": {
    "scrolled": false
   },
   "outputs": [
    {
     "name": "stdout",
     "output_type": "stream",
     "text": [
      "04Temperatyry\n"
     ]
    }
   ],
   "source": [
    "print(predict('./data/04Temperatyry/a00025.wav', model=model))"
   ]
  }
 ],
 "metadata": {
  "kernelspec": {
   "display_name": "Python 3",
   "language": "python",
   "name": "python3"
  },
  "language_info": {
   "codemirror_mode": {
    "name": "ipython",
    "version": 3
   },
   "file_extension": ".py",
   "mimetype": "text/x-python",
   "name": "python",
   "nbconvert_exporter": "python",
   "pygments_lexer": "ipython3",
   "version": "3.7.3"
  }
 },
 "nbformat": 4,
 "nbformat_minor": 2
}
